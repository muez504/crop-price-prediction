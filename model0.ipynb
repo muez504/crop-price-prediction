{
 "cells": [
  {
   "cell_type": "code",
   "execution_count": 1,
   "id": "be3051e5",
   "metadata": {},
   "outputs": [],
   "source": [
    "import numpy as np# Importing every library we need"
   ]
  },
  {
   "cell_type": "code",
   "execution_count": 2,
   "id": "b4fca2ce",
   "metadata": {},
   "outputs": [],
   "source": [
    "import seaborn as sns"
   ]
  },
  {
   "cell_type": "code",
   "execution_count": 3,
   "id": "eada970b",
   "metadata": {},
   "outputs": [],
   "source": [
    "import pandas as pd"
   ]
  },
  {
   "cell_type": "code",
   "execution_count": 4,
   "id": "f1b2e0fa",
   "metadata": {},
   "outputs": [
    {
     "ename": "FileNotFoundError",
     "evalue": "[Errno 2] No such file or directory: 'data0.csv'",
     "output_type": "error",
     "traceback": [
      "\u001b[1;31m---------------------------------------------------------------------------\u001b[0m",
      "\u001b[1;31mFileNotFoundError\u001b[0m                         Traceback (most recent call last)",
      "Cell \u001b[1;32mIn[4], line 1\u001b[0m\n\u001b[1;32m----> 1\u001b[0m df \u001b[39m=\u001b[39m pd\u001b[39m.\u001b[39;49mread_csv(\u001b[39m\"\u001b[39;49m\u001b[39mdata0.csv\u001b[39;49m\u001b[39m\"\u001b[39;49m)\n",
      "File \u001b[1;32mc:\\Users\\user\\AppData\\Local\\Programs\\Python\\Python310\\lib\\site-packages\\pandas\\io\\parsers\\readers.py:912\u001b[0m, in \u001b[0;36mread_csv\u001b[1;34m(filepath_or_buffer, sep, delimiter, header, names, index_col, usecols, dtype, engine, converters, true_values, false_values, skipinitialspace, skiprows, skipfooter, nrows, na_values, keep_default_na, na_filter, verbose, skip_blank_lines, parse_dates, infer_datetime_format, keep_date_col, date_parser, date_format, dayfirst, cache_dates, iterator, chunksize, compression, thousands, decimal, lineterminator, quotechar, quoting, doublequote, escapechar, comment, encoding, encoding_errors, dialect, on_bad_lines, delim_whitespace, low_memory, memory_map, float_precision, storage_options, dtype_backend)\u001b[0m\n\u001b[0;32m    899\u001b[0m kwds_defaults \u001b[39m=\u001b[39m _refine_defaults_read(\n\u001b[0;32m    900\u001b[0m     dialect,\n\u001b[0;32m    901\u001b[0m     delimiter,\n\u001b[1;32m   (...)\u001b[0m\n\u001b[0;32m    908\u001b[0m     dtype_backend\u001b[39m=\u001b[39mdtype_backend,\n\u001b[0;32m    909\u001b[0m )\n\u001b[0;32m    910\u001b[0m kwds\u001b[39m.\u001b[39mupdate(kwds_defaults)\n\u001b[1;32m--> 912\u001b[0m \u001b[39mreturn\u001b[39;00m _read(filepath_or_buffer, kwds)\n",
      "File \u001b[1;32mc:\\Users\\user\\AppData\\Local\\Programs\\Python\\Python310\\lib\\site-packages\\pandas\\io\\parsers\\readers.py:577\u001b[0m, in \u001b[0;36m_read\u001b[1;34m(filepath_or_buffer, kwds)\u001b[0m\n\u001b[0;32m    574\u001b[0m _validate_names(kwds\u001b[39m.\u001b[39mget(\u001b[39m\"\u001b[39m\u001b[39mnames\u001b[39m\u001b[39m\"\u001b[39m, \u001b[39mNone\u001b[39;00m))\n\u001b[0;32m    576\u001b[0m \u001b[39m# Create the parser.\u001b[39;00m\n\u001b[1;32m--> 577\u001b[0m parser \u001b[39m=\u001b[39m TextFileReader(filepath_or_buffer, \u001b[39m*\u001b[39m\u001b[39m*\u001b[39mkwds)\n\u001b[0;32m    579\u001b[0m \u001b[39mif\u001b[39;00m chunksize \u001b[39mor\u001b[39;00m iterator:\n\u001b[0;32m    580\u001b[0m     \u001b[39mreturn\u001b[39;00m parser\n",
      "File \u001b[1;32mc:\\Users\\user\\AppData\\Local\\Programs\\Python\\Python310\\lib\\site-packages\\pandas\\io\\parsers\\readers.py:1407\u001b[0m, in \u001b[0;36mTextFileReader.__init__\u001b[1;34m(self, f, engine, **kwds)\u001b[0m\n\u001b[0;32m   1404\u001b[0m     \u001b[39mself\u001b[39m\u001b[39m.\u001b[39moptions[\u001b[39m\"\u001b[39m\u001b[39mhas_index_names\u001b[39m\u001b[39m\"\u001b[39m] \u001b[39m=\u001b[39m kwds[\u001b[39m\"\u001b[39m\u001b[39mhas_index_names\u001b[39m\u001b[39m\"\u001b[39m]\n\u001b[0;32m   1406\u001b[0m \u001b[39mself\u001b[39m\u001b[39m.\u001b[39mhandles: IOHandles \u001b[39m|\u001b[39m \u001b[39mNone\u001b[39;00m \u001b[39m=\u001b[39m \u001b[39mNone\u001b[39;00m\n\u001b[1;32m-> 1407\u001b[0m \u001b[39mself\u001b[39m\u001b[39m.\u001b[39m_engine \u001b[39m=\u001b[39m \u001b[39mself\u001b[39;49m\u001b[39m.\u001b[39;49m_make_engine(f, \u001b[39mself\u001b[39;49m\u001b[39m.\u001b[39;49mengine)\n",
      "File \u001b[1;32mc:\\Users\\user\\AppData\\Local\\Programs\\Python\\Python310\\lib\\site-packages\\pandas\\io\\parsers\\readers.py:1661\u001b[0m, in \u001b[0;36mTextFileReader._make_engine\u001b[1;34m(self, f, engine)\u001b[0m\n\u001b[0;32m   1659\u001b[0m     \u001b[39mif\u001b[39;00m \u001b[39m\"\u001b[39m\u001b[39mb\u001b[39m\u001b[39m\"\u001b[39m \u001b[39mnot\u001b[39;00m \u001b[39min\u001b[39;00m mode:\n\u001b[0;32m   1660\u001b[0m         mode \u001b[39m+\u001b[39m\u001b[39m=\u001b[39m \u001b[39m\"\u001b[39m\u001b[39mb\u001b[39m\u001b[39m\"\u001b[39m\n\u001b[1;32m-> 1661\u001b[0m \u001b[39mself\u001b[39m\u001b[39m.\u001b[39mhandles \u001b[39m=\u001b[39m get_handle(\n\u001b[0;32m   1662\u001b[0m     f,\n\u001b[0;32m   1663\u001b[0m     mode,\n\u001b[0;32m   1664\u001b[0m     encoding\u001b[39m=\u001b[39;49m\u001b[39mself\u001b[39;49m\u001b[39m.\u001b[39;49moptions\u001b[39m.\u001b[39;49mget(\u001b[39m\"\u001b[39;49m\u001b[39mencoding\u001b[39;49m\u001b[39m\"\u001b[39;49m, \u001b[39mNone\u001b[39;49;00m),\n\u001b[0;32m   1665\u001b[0m     compression\u001b[39m=\u001b[39;49m\u001b[39mself\u001b[39;49m\u001b[39m.\u001b[39;49moptions\u001b[39m.\u001b[39;49mget(\u001b[39m\"\u001b[39;49m\u001b[39mcompression\u001b[39;49m\u001b[39m\"\u001b[39;49m, \u001b[39mNone\u001b[39;49;00m),\n\u001b[0;32m   1666\u001b[0m     memory_map\u001b[39m=\u001b[39;49m\u001b[39mself\u001b[39;49m\u001b[39m.\u001b[39;49moptions\u001b[39m.\u001b[39;49mget(\u001b[39m\"\u001b[39;49m\u001b[39mmemory_map\u001b[39;49m\u001b[39m\"\u001b[39;49m, \u001b[39mFalse\u001b[39;49;00m),\n\u001b[0;32m   1667\u001b[0m     is_text\u001b[39m=\u001b[39;49mis_text,\n\u001b[0;32m   1668\u001b[0m     errors\u001b[39m=\u001b[39;49m\u001b[39mself\u001b[39;49m\u001b[39m.\u001b[39;49moptions\u001b[39m.\u001b[39;49mget(\u001b[39m\"\u001b[39;49m\u001b[39mencoding_errors\u001b[39;49m\u001b[39m\"\u001b[39;49m, \u001b[39m\"\u001b[39;49m\u001b[39mstrict\u001b[39;49m\u001b[39m\"\u001b[39;49m),\n\u001b[0;32m   1669\u001b[0m     storage_options\u001b[39m=\u001b[39;49m\u001b[39mself\u001b[39;49m\u001b[39m.\u001b[39;49moptions\u001b[39m.\u001b[39;49mget(\u001b[39m\"\u001b[39;49m\u001b[39mstorage_options\u001b[39;49m\u001b[39m\"\u001b[39;49m, \u001b[39mNone\u001b[39;49;00m),\n\u001b[0;32m   1670\u001b[0m )\n\u001b[0;32m   1671\u001b[0m \u001b[39massert\u001b[39;00m \u001b[39mself\u001b[39m\u001b[39m.\u001b[39mhandles \u001b[39mis\u001b[39;00m \u001b[39mnot\u001b[39;00m \u001b[39mNone\u001b[39;00m\n\u001b[0;32m   1672\u001b[0m f \u001b[39m=\u001b[39m \u001b[39mself\u001b[39m\u001b[39m.\u001b[39mhandles\u001b[39m.\u001b[39mhandle\n",
      "File \u001b[1;32mc:\\Users\\user\\AppData\\Local\\Programs\\Python\\Python310\\lib\\site-packages\\pandas\\io\\common.py:859\u001b[0m, in \u001b[0;36mget_handle\u001b[1;34m(path_or_buf, mode, encoding, compression, memory_map, is_text, errors, storage_options)\u001b[0m\n\u001b[0;32m    854\u001b[0m \u001b[39melif\u001b[39;00m \u001b[39misinstance\u001b[39m(handle, \u001b[39mstr\u001b[39m):\n\u001b[0;32m    855\u001b[0m     \u001b[39m# Check whether the filename is to be opened in binary mode.\u001b[39;00m\n\u001b[0;32m    856\u001b[0m     \u001b[39m# Binary mode does not support 'encoding' and 'newline'.\u001b[39;00m\n\u001b[0;32m    857\u001b[0m     \u001b[39mif\u001b[39;00m ioargs\u001b[39m.\u001b[39mencoding \u001b[39mand\u001b[39;00m \u001b[39m\"\u001b[39m\u001b[39mb\u001b[39m\u001b[39m\"\u001b[39m \u001b[39mnot\u001b[39;00m \u001b[39min\u001b[39;00m ioargs\u001b[39m.\u001b[39mmode:\n\u001b[0;32m    858\u001b[0m         \u001b[39m# Encoding\u001b[39;00m\n\u001b[1;32m--> 859\u001b[0m         handle \u001b[39m=\u001b[39m \u001b[39mopen\u001b[39;49m(\n\u001b[0;32m    860\u001b[0m             handle,\n\u001b[0;32m    861\u001b[0m             ioargs\u001b[39m.\u001b[39;49mmode,\n\u001b[0;32m    862\u001b[0m             encoding\u001b[39m=\u001b[39;49mioargs\u001b[39m.\u001b[39;49mencoding,\n\u001b[0;32m    863\u001b[0m             errors\u001b[39m=\u001b[39;49merrors,\n\u001b[0;32m    864\u001b[0m             newline\u001b[39m=\u001b[39;49m\u001b[39m\"\u001b[39;49m\u001b[39m\"\u001b[39;49m,\n\u001b[0;32m    865\u001b[0m         )\n\u001b[0;32m    866\u001b[0m     \u001b[39melse\u001b[39;00m:\n\u001b[0;32m    867\u001b[0m         \u001b[39m# Binary mode\u001b[39;00m\n\u001b[0;32m    868\u001b[0m         handle \u001b[39m=\u001b[39m \u001b[39mopen\u001b[39m(handle, ioargs\u001b[39m.\u001b[39mmode)\n",
      "\u001b[1;31mFileNotFoundError\u001b[0m: [Errno 2] No such file or directory: 'data0.csv'"
     ]
    }
   ],
   "source": [
    "df = pd.read_csv(\"data0.csv\")"
   ]
  },
  {
   "cell_type": "code",
   "execution_count": null,
   "id": "70946eb5",
   "metadata": {
    "scrolled": true
   },
   "outputs": [
    {
     "data": {
      "text/html": [
       "<div>\n",
       "<style scoped>\n",
       "    .dataframe tbody tr th:only-of-type {\n",
       "        vertical-align: middle;\n",
       "    }\n",
       "\n",
       "    .dataframe tbody tr th {\n",
       "        vertical-align: top;\n",
       "    }\n",
       "\n",
       "    .dataframe thead th {\n",
       "        text-align: right;\n",
       "    }\n",
       "</style>\n",
       "<table border=\"1\" class=\"dataframe\">\n",
       "  <thead>\n",
       "    <tr style=\"text-align: right;\">\n",
       "      <th></th>\n",
       "      <th>Market Place</th>\n",
       "      <th>Crop Variety</th>\n",
       "      <th>Producer Min</th>\n",
       "      <th>Producer Max</th>\n",
       "      <th>Wholesale Min</th>\n",
       "      <th>Wholesale Max</th>\n",
       "      <th>Retail Min</th>\n",
       "      <th>Retail Max</th>\n",
       "      <th>Volume</th>\n",
       "      <th>Collection Date</th>\n",
       "    </tr>\n",
       "  </thead>\n",
       "  <tbody>\n",
       "    <tr>\n",
       "      <th>0</th>\n",
       "      <td>Bahir Dar kebele 04</td>\n",
       "      <td>White Teff (Quintal)</td>\n",
       "      <td>0</td>\n",
       "      <td>0.0</td>\n",
       "      <td>2400</td>\n",
       "      <td>2500</td>\n",
       "      <td>2550.0</td>\n",
       "      <td>2650</td>\n",
       "      <td>Sufficient</td>\n",
       "      <td>5/2/2019</td>\n",
       "    </tr>\n",
       "    <tr>\n",
       "      <th>1</th>\n",
       "      <td>Hawassa</td>\n",
       "      <td>White Teff (Quintal)</td>\n",
       "      <td>0</td>\n",
       "      <td>0.0</td>\n",
       "      <td>2700</td>\n",
       "      <td>2900</td>\n",
       "      <td>2800.0</td>\n",
       "      <td>3000</td>\n",
       "      <td>Under</td>\n",
       "      <td>5/6/2019</td>\n",
       "    </tr>\n",
       "    <tr>\n",
       "      <th>2</th>\n",
       "      <td>Humera</td>\n",
       "      <td>White Teff (Quintal)</td>\n",
       "      <td>0</td>\n",
       "      <td>0.0</td>\n",
       "      <td>2800</td>\n",
       "      <td>2900</td>\n",
       "      <td>0.0</td>\n",
       "      <td>0</td>\n",
       "      <td>Sufficient</td>\n",
       "      <td>5/8/2019</td>\n",
       "    </tr>\n",
       "    <tr>\n",
       "      <th>3</th>\n",
       "      <td>Bahir Dar kebele 04</td>\n",
       "      <td>White Teff (Quintal)</td>\n",
       "      <td>0</td>\n",
       "      <td>0.0</td>\n",
       "      <td>2450</td>\n",
       "      <td>2550</td>\n",
       "      <td>2550.0</td>\n",
       "      <td>2700</td>\n",
       "      <td>Sufficient</td>\n",
       "      <td>5/9/2019</td>\n",
       "    </tr>\n",
       "    <tr>\n",
       "      <th>4</th>\n",
       "      <td>Hawassa</td>\n",
       "      <td>White Teff (Quintal)</td>\n",
       "      <td>0</td>\n",
       "      <td>0.0</td>\n",
       "      <td>2700</td>\n",
       "      <td>2900</td>\n",
       "      <td>2800.0</td>\n",
       "      <td>3000</td>\n",
       "      <td>Under</td>\n",
       "      <td>5/13/2019</td>\n",
       "    </tr>\n",
       "  </tbody>\n",
       "</table>\n",
       "</div>"
      ],
      "text/plain": [
       "          Market Place          Crop Variety  Producer Min  Producer Max  \\\n",
       "0  Bahir Dar kebele 04  White Teff (Quintal)             0           0.0   \n",
       "1             Hawassa   White Teff (Quintal)             0           0.0   \n",
       "2               Humera  White Teff (Quintal)             0           0.0   \n",
       "3  Bahir Dar kebele 04  White Teff (Quintal)             0           0.0   \n",
       "4             Hawassa   White Teff (Quintal)             0           0.0   \n",
       "\n",
       "   Wholesale Min  Wholesale Max  Retail Min  Retail Max      Volume  \\\n",
       "0           2400           2500      2550.0        2650  Sufficient   \n",
       "1           2700           2900      2800.0        3000       Under   \n",
       "2           2800           2900         0.0           0  Sufficient   \n",
       "3           2450           2550      2550.0        2700  Sufficient   \n",
       "4           2700           2900      2800.0        3000       Under   \n",
       "\n",
       "  Collection Date  \n",
       "0        5/2/2019  \n",
       "1        5/6/2019  \n",
       "2        5/8/2019  \n",
       "3        5/9/2019  \n",
       "4       5/13/2019  "
      ]
     },
     "execution_count": 91,
     "metadata": {},
     "output_type": "execute_result"
    }
   ],
   "source": [
    "df.head()"
   ]
  },
  {
   "cell_type": "code",
   "execution_count": null,
   "id": "ef6e595b",
   "metadata": {},
   "outputs": [
    {
     "data": {
      "text/html": [
       "<div>\n",
       "<style scoped>\n",
       "    .dataframe tbody tr th:only-of-type {\n",
       "        vertical-align: middle;\n",
       "    }\n",
       "\n",
       "    .dataframe tbody tr th {\n",
       "        vertical-align: top;\n",
       "    }\n",
       "\n",
       "    .dataframe thead th {\n",
       "        text-align: right;\n",
       "    }\n",
       "</style>\n",
       "<table border=\"1\" class=\"dataframe\">\n",
       "  <thead>\n",
       "    <tr style=\"text-align: right;\">\n",
       "      <th></th>\n",
       "      <th>Market Place</th>\n",
       "      <th>Crop Variety</th>\n",
       "      <th>Producer Min</th>\n",
       "      <th>Producer Max</th>\n",
       "      <th>Wholesale Min</th>\n",
       "      <th>Wholesale Max</th>\n",
       "      <th>Retail Min</th>\n",
       "      <th>Retail Max</th>\n",
       "      <th>Volume</th>\n",
       "      <th>Collection Date</th>\n",
       "    </tr>\n",
       "  </thead>\n",
       "  <tbody>\n",
       "    <tr>\n",
       "      <th>1014</th>\n",
       "      <td>Bahir Dar kebele 04</td>\n",
       "      <td>White Teff (Quintal)</td>\n",
       "      <td>0</td>\n",
       "      <td>0.0</td>\n",
       "      <td>0</td>\n",
       "      <td>0</td>\n",
       "      <td>6500.0</td>\n",
       "      <td>6800</td>\n",
       "      <td>Sufficient</td>\n",
       "      <td>3/2/2023</td>\n",
       "    </tr>\n",
       "    <tr>\n",
       "      <th>1015</th>\n",
       "      <td>Dilla</td>\n",
       "      <td>White Teff (Quintal)</td>\n",
       "      <td>0</td>\n",
       "      <td>0.0</td>\n",
       "      <td>6700</td>\n",
       "      <td>6800</td>\n",
       "      <td>6800.0</td>\n",
       "      <td>7000</td>\n",
       "      <td>Sufficient</td>\n",
       "      <td>3/4/2023</td>\n",
       "    </tr>\n",
       "    <tr>\n",
       "      <th>1016</th>\n",
       "      <td>Woldia Gebeya</td>\n",
       "      <td>White Teff (Quintal)</td>\n",
       "      <td>6808</td>\n",
       "      <td>6956.0</td>\n",
       "      <td>0</td>\n",
       "      <td>0</td>\n",
       "      <td>6956.0</td>\n",
       "      <td>7106</td>\n",
       "      <td>Sufficient</td>\n",
       "      <td>3/7/2023</td>\n",
       "    </tr>\n",
       "    <tr>\n",
       "      <th>1017</th>\n",
       "      <td>Bahir Dar kebele 04</td>\n",
       "      <td>White Teff (Quintal)</td>\n",
       "      <td>0</td>\n",
       "      <td>0.0</td>\n",
       "      <td>6200</td>\n",
       "      <td>6500</td>\n",
       "      <td>6500.0</td>\n",
       "      <td>7000</td>\n",
       "      <td>Sufficient</td>\n",
       "      <td>3/9/2023</td>\n",
       "    </tr>\n",
       "    <tr>\n",
       "      <th>1018</th>\n",
       "      <td>Adama City</td>\n",
       "      <td>White Teff (Quintal)</td>\n",
       "      <td>0</td>\n",
       "      <td>0.0</td>\n",
       "      <td>7200</td>\n",
       "      <td>7300</td>\n",
       "      <td>7400.0</td>\n",
       "      <td>7500</td>\n",
       "      <td>Sufficient</td>\n",
       "      <td>3/10/2023</td>\n",
       "    </tr>\n",
       "  </tbody>\n",
       "</table>\n",
       "</div>"
      ],
      "text/plain": [
       "             Market Place          Crop Variety  Producer Min  Producer Max  \\\n",
       "1014  Bahir Dar kebele 04  White Teff (Quintal)             0           0.0   \n",
       "1015                Dilla  White Teff (Quintal)             0           0.0   \n",
       "1016        Woldia Gebeya  White Teff (Quintal)          6808        6956.0   \n",
       "1017  Bahir Dar kebele 04  White Teff (Quintal)             0           0.0   \n",
       "1018           Adama City  White Teff (Quintal)             0           0.0   \n",
       "\n",
       "      Wholesale Min  Wholesale Max  Retail Min  Retail Max      Volume  \\\n",
       "1014              0              0      6500.0        6800  Sufficient   \n",
       "1015           6700           6800      6800.0        7000  Sufficient   \n",
       "1016              0              0      6956.0        7106  Sufficient   \n",
       "1017           6200           6500      6500.0        7000  Sufficient   \n",
       "1018           7200           7300      7400.0        7500  Sufficient   \n",
       "\n",
       "     Collection Date  \n",
       "1014        3/2/2023  \n",
       "1015        3/4/2023  \n",
       "1016        3/7/2023  \n",
       "1017        3/9/2023  \n",
       "1018       3/10/2023  "
      ]
     },
     "execution_count": 92,
     "metadata": {},
     "output_type": "execute_result"
    }
   ],
   "source": [
    "df.tail()"
   ]
  },
  {
   "cell_type": "code",
   "execution_count": null,
   "id": "7e743745",
   "metadata": {},
   "outputs": [
    {
     "name": "stdout",
     "output_type": "stream",
     "text": [
      "<class 'pandas.core.frame.DataFrame'>\n",
      "RangeIndex: 1019 entries, 0 to 1018\n",
      "Data columns (total 10 columns):\n",
      " #   Column           Non-Null Count  Dtype  \n",
      "---  ------           --------------  -----  \n",
      " 0   Market Place     1019 non-null   object \n",
      " 1   Crop Variety     1019 non-null   object \n",
      " 2   Producer Min     1019 non-null   int64  \n",
      " 3   Producer Max     1019 non-null   float64\n",
      " 4   Wholesale Min    1019 non-null   int64  \n",
      " 5   Wholesale Max    1019 non-null   int64  \n",
      " 6   Retail Min       1019 non-null   float64\n",
      " 7   Retail Max       1019 non-null   int64  \n",
      " 8   Volume           1019 non-null   object \n",
      " 9   Collection Date  1019 non-null   object \n",
      "dtypes: float64(2), int64(4), object(4)\n",
      "memory usage: 79.7+ KB\n"
     ]
    }
   ],
   "source": [
    "df.info()"
   ]
  },
  {
   "cell_type": "code",
   "execution_count": null,
   "id": "9c9cdd80",
   "metadata": {},
   "outputs": [],
   "source": [
    "df.dropna(inplace = True)"
   ]
  },
  {
   "cell_type": "code",
   "execution_count": null,
   "id": "299be6f6",
   "metadata": {
    "scrolled": true
   },
   "outputs": [
    {
     "data": {
      "text/plain": [
       "Market Place       0\n",
       "Crop Variety       0\n",
       "Producer Min       0\n",
       "Producer Max       0\n",
       "Wholesale Min      0\n",
       "Wholesale Max      0\n",
       "Retail Min         0\n",
       "Retail Max         0\n",
       "Volume             0\n",
       "Collection Date    0\n",
       "dtype: int64"
      ]
     },
     "execution_count": 95,
     "metadata": {},
     "output_type": "execute_result"
    }
   ],
   "source": [
    "df.isnull().sum()"
   ]
  },
  {
   "cell_type": "code",
   "execution_count": null,
   "id": "6ce41830",
   "metadata": {},
   "outputs": [],
   "source": [
    "data2=df.copy()"
   ]
  },
  {
   "cell_type": "code",
   "execution_count": null,
   "id": "79cb49b8",
   "metadata": {},
   "outputs": [],
   "source": [
    "data2 = data2.dropna()"
   ]
  },
  {
   "cell_type": "code",
   "execution_count": null,
   "id": "36b79911",
   "metadata": {},
   "outputs": [
    {
     "data": {
      "text/plain": [
       "Market Place       0\n",
       "Crop Variety       0\n",
       "Producer Min       0\n",
       "Producer Max       0\n",
       "Wholesale Min      0\n",
       "Wholesale Max      0\n",
       "Retail Min         0\n",
       "Retail Max         0\n",
       "Volume             0\n",
       "Collection Date    0\n",
       "dtype: int64"
      ]
     },
     "execution_count": 98,
     "metadata": {},
     "output_type": "execute_result"
    }
   ],
   "source": [
    "data2.isnull().sum()"
   ]
  },
  {
   "cell_type": "code",
   "execution_count": null,
   "id": "e4a73027",
   "metadata": {},
   "outputs": [
    {
     "name": "stderr",
     "output_type": "stream",
     "text": [
      "C:\\Users\\user\\AppData\\Local\\Temp\\ipykernel_20248\\3544963172.py:1: FutureWarning: In a future version of pandas all arguments of DataFrame.drop except for the argument 'labels' will be keyword-only.\n",
      "  data2 = data2.drop('Retail Min', 1)\n"
     ]
    }
   ],
   "source": [
    "data2 = data2.drop('Retail Min', 1)"
   ]
  },
  {
   "cell_type": "code",
   "execution_count": null,
   "id": "39c5ed19",
   "metadata": {},
   "outputs": [
    {
     "name": "stderr",
     "output_type": "stream",
     "text": [
      "C:\\Users\\user\\AppData\\Local\\Temp\\ipykernel_20248\\3625768526.py:1: FutureWarning: In a future version of pandas all arguments of DataFrame.drop except for the argument 'labels' will be keyword-only.\n",
      "  data2 = data2.drop('Wholesale Max', 1)\n"
     ]
    }
   ],
   "source": [
    "data2 = data2.drop('Wholesale Max', 1)"
   ]
  },
  {
   "cell_type": "code",
   "execution_count": null,
   "id": "54044232",
   "metadata": {},
   "outputs": [
    {
     "name": "stderr",
     "output_type": "stream",
     "text": [
      "C:\\Users\\user\\AppData\\Local\\Temp\\ipykernel_20248\\1643169034.py:1: FutureWarning: In a future version of pandas all arguments of DataFrame.drop except for the argument 'labels' will be keyword-only.\n",
      "  data2 = data2.drop('Wholesale Min', 1)\n"
     ]
    }
   ],
   "source": [
    "data2 = data2.drop('Wholesale Min', 1)"
   ]
  },
  {
   "cell_type": "code",
   "execution_count": null,
   "id": "0174adc4",
   "metadata": {},
   "outputs": [
    {
     "name": "stderr",
     "output_type": "stream",
     "text": [
      "C:\\Users\\user\\AppData\\Local\\Temp\\ipykernel_20248\\1909392735.py:1: FutureWarning: In a future version of pandas all arguments of DataFrame.drop except for the argument 'labels' will be keyword-only.\n",
      "  data2 = data2.drop('Producer Max', 1)\n"
     ]
    }
   ],
   "source": [
    "data2 = data2.drop('Producer Max', 1)"
   ]
  },
  {
   "cell_type": "code",
   "execution_count": null,
   "id": "ab37918a",
   "metadata": {},
   "outputs": [
    {
     "name": "stderr",
     "output_type": "stream",
     "text": [
      "C:\\Users\\user\\AppData\\Local\\Temp\\ipykernel_20248\\3150962837.py:1: FutureWarning: In a future version of pandas all arguments of DataFrame.drop except for the argument 'labels' will be keyword-only.\n",
      "  data2 = data2.drop('Producer Min', 1)\n"
     ]
    }
   ],
   "source": [
    "data2 = data2.drop('Producer Min', 1)"
   ]
  },
  {
   "cell_type": "code",
   "execution_count": null,
   "id": "3a0f4148",
   "metadata": {
    "scrolled": true
   },
   "outputs": [
    {
     "data": {
      "text/html": [
       "<div>\n",
       "<style scoped>\n",
       "    .dataframe tbody tr th:only-of-type {\n",
       "        vertical-align: middle;\n",
       "    }\n",
       "\n",
       "    .dataframe tbody tr th {\n",
       "        vertical-align: top;\n",
       "    }\n",
       "\n",
       "    .dataframe thead th {\n",
       "        text-align: right;\n",
       "    }\n",
       "</style>\n",
       "<table border=\"1\" class=\"dataframe\">\n",
       "  <thead>\n",
       "    <tr style=\"text-align: right;\">\n",
       "      <th></th>\n",
       "      <th>Market Place</th>\n",
       "      <th>Crop Variety</th>\n",
       "      <th>Retail Max</th>\n",
       "      <th>Volume</th>\n",
       "      <th>Collection Date</th>\n",
       "    </tr>\n",
       "  </thead>\n",
       "  <tbody>\n",
       "    <tr>\n",
       "      <th>0</th>\n",
       "      <td>Bahir Dar kebele 04</td>\n",
       "      <td>White Teff (Quintal)</td>\n",
       "      <td>2650</td>\n",
       "      <td>Sufficient</td>\n",
       "      <td>5/2/2019</td>\n",
       "    </tr>\n",
       "    <tr>\n",
       "      <th>1</th>\n",
       "      <td>Hawassa</td>\n",
       "      <td>White Teff (Quintal)</td>\n",
       "      <td>3000</td>\n",
       "      <td>Under</td>\n",
       "      <td>5/6/2019</td>\n",
       "    </tr>\n",
       "    <tr>\n",
       "      <th>2</th>\n",
       "      <td>Humera</td>\n",
       "      <td>White Teff (Quintal)</td>\n",
       "      <td>0</td>\n",
       "      <td>Sufficient</td>\n",
       "      <td>5/8/2019</td>\n",
       "    </tr>\n",
       "    <tr>\n",
       "      <th>3</th>\n",
       "      <td>Bahir Dar kebele 04</td>\n",
       "      <td>White Teff (Quintal)</td>\n",
       "      <td>2700</td>\n",
       "      <td>Sufficient</td>\n",
       "      <td>5/9/2019</td>\n",
       "    </tr>\n",
       "    <tr>\n",
       "      <th>4</th>\n",
       "      <td>Hawassa</td>\n",
       "      <td>White Teff (Quintal)</td>\n",
       "      <td>3000</td>\n",
       "      <td>Under</td>\n",
       "      <td>5/13/2019</td>\n",
       "    </tr>\n",
       "  </tbody>\n",
       "</table>\n",
       "</div>"
      ],
      "text/plain": [
       "          Market Place          Crop Variety  Retail Max      Volume  \\\n",
       "0  Bahir Dar kebele 04  White Teff (Quintal)        2650  Sufficient   \n",
       "1             Hawassa   White Teff (Quintal)        3000       Under   \n",
       "2               Humera  White Teff (Quintal)           0  Sufficient   \n",
       "3  Bahir Dar kebele 04  White Teff (Quintal)        2700  Sufficient   \n",
       "4             Hawassa   White Teff (Quintal)        3000       Under   \n",
       "\n",
       "  Collection Date  \n",
       "0        5/2/2019  \n",
       "1        5/6/2019  \n",
       "2        5/8/2019  \n",
       "3        5/9/2019  \n",
       "4       5/13/2019  "
      ]
     },
     "execution_count": 104,
     "metadata": {},
     "output_type": "execute_result"
    }
   ],
   "source": [
    "data2.head()"
   ]
  },
  {
   "cell_type": "code",
   "execution_count": null,
   "id": "97eee18b",
   "metadata": {},
   "outputs": [
    {
     "data": {
      "text/plain": [
       "'5/13/2019'"
      ]
     },
     "execution_count": 105,
     "metadata": {},
     "output_type": "execute_result"
    }
   ],
   "source": [
    "data2[\"Collection Date\"][4]"
   ]
  },
  {
   "cell_type": "code",
   "execution_count": null,
   "id": "ffe46332",
   "metadata": {},
   "outputs": [
    {
     "data": {
      "text/plain": [
       "9/25/2019     6\n",
       "12/24/2020    4\n",
       "8/22/2020     3\n",
       "12/28/2019    3\n",
       "1/12/2023     3\n",
       "             ..\n",
       "8/18/2020     1\n",
       "8/17/2020     1\n",
       "8/12/2020     1\n",
       "8/11/2020     1\n",
       "3/10/2023     1\n",
       "Name: Collection Date, Length: 686, dtype: int64"
      ]
     },
     "execution_count": 106,
     "metadata": {},
     "output_type": "execute_result"
    }
   ],
   "source": [
    "data2[\"Collection Date\"].value_counts()"
   ]
  },
  {
   "cell_type": "code",
   "execution_count": null,
   "id": "a634e35b",
   "metadata": {},
   "outputs": [
    {
     "name": "stdout",
     "output_type": "stream",
     "text": [
      "5/6/2019\n",
      "['5/6/2019']\n",
      "5\n"
     ]
    }
   ],
   "source": [
    "str = data2[\"Collection Date\"][1]#taking any arbitrary data spliting it by calling split methode\n",
    "str2 = str.split()#spliting it to 5,/,1,/,2019   thus str[6] out of range \n",
    "print(str)\n",
    "print(str2)\n",
    "print(str[0])"
   ]
  },
  {
   "cell_type": "code",
   "execution_count": null,
   "id": "d3e98be0",
   "metadata": {},
   "outputs": [
    {
     "name": "stdout",
     "output_type": "stream",
     "text": [
      "{1: 'January', 2: 'February', 3: 'March', 4: 'April', 5: 'May', 6: 'June', 7: 'July', 8: 'August', 9: 'September', 10: 'October', 11: 'November', 12: 'December'}\n"
     ]
    }
   ],
   "source": [
    "#creating dictionary to store the months in\n",
    "Dict = {1 :\"January\", 2:\"February\", 3:\"March\", 4:\"April\", 5:\"May\", 6:\"June\", 7:\"July\", 8:\"August\", 9:\"September\", 10:\"October\", 11:\"November\", 12:\"December\"}\n",
    "print(Dict)"
   ]
  },
  {
   "cell_type": "code",
   "execution_count": null,
   "id": "be5ec84d",
   "metadata": {},
   "outputs": [
    {
     "data": {
      "text/plain": [
       "'March'"
      ]
     },
     "execution_count": 109,
     "metadata": {},
     "output_type": "execute_result"
    }
   ],
   "source": [
    "Dict[3]"
   ]
  },
  {
   "cell_type": "code",
   "execution_count": null,
   "id": "090f23ab",
   "metadata": {},
   "outputs": [],
   "source": [
    "month = []#creating empty column"
   ]
  },
  {
   "cell_type": "code",
   "execution_count": null,
   "id": "7650e68b",
   "metadata": {},
   "outputs": [],
   "source": [
    "for rr in data2[\"Collection Date\"]:\n",
    "    str = rr\n",
    "    str2 = str.split('/')\n",
    "    month.append(Dict[int(str2[0])])#taking the first term, (month) from the splited"
   ]
  },
  {
   "cell_type": "code",
   "execution_count": null,
   "id": "93a964c6",
   "metadata": {},
   "outputs": [
    {
     "data": {
      "text/plain": [
       "1019"
      ]
     },
     "execution_count": 112,
     "metadata": {},
     "output_type": "execute_result"
    }
   ],
   "source": [
    "len(month)"
   ]
  },
  {
   "cell_type": "code",
   "execution_count": null,
   "id": "f20563ca",
   "metadata": {},
   "outputs": [],
   "source": [
    "data2[\"month\"] = month"
   ]
  },
  {
   "cell_type": "code",
   "execution_count": null,
   "id": "bd9c4380",
   "metadata": {},
   "outputs": [
    {
     "data": {
      "text/plain": [
       "0         May\n",
       "1         May\n",
       "2         May\n",
       "3         May\n",
       "4         May\n",
       "        ...  \n",
       "1014    March\n",
       "1015    March\n",
       "1016    March\n",
       "1017    March\n",
       "1018    March\n",
       "Name: month, Length: 1019, dtype: object"
      ]
     },
     "execution_count": 114,
     "metadata": {},
     "output_type": "execute_result"
    }
   ],
   "source": [
    "data2[\"month\"]"
   ]
  },
  {
   "cell_type": "code",
   "execution_count": null,
   "id": "b5fff09e",
   "metadata": {},
   "outputs": [
    {
     "data": {
      "text/plain": [
       "array(['May', 'June', 'July', 'August', 'September', 'October',\n",
       "       'November', 'December', 'January', 'February', 'March', 'April'],\n",
       "      dtype=object)"
      ]
     },
     "execution_count": 115,
     "metadata": {},
     "output_type": "execute_result"
    }
   ],
   "source": [
    "data2[\"month\"].unique()"
   ]
  },
  {
   "cell_type": "code",
   "execution_count": null,
   "id": "f1c0be59",
   "metadata": {},
   "outputs": [],
   "source": [
    "season =[]#creating empty column of season"
   ]
  },
  {
   "cell_type": "code",
   "execution_count": null,
   "id": "f1fb6a5f",
   "metadata": {},
   "outputs": [],
   "source": [
    "for tt in data2[\"month\"]:\n",
    "    if tt== \"December\" or tt==\"January\" or tt==\"February\":\n",
    "        season.append(\"Winter\")\n",
    "    elif tt==\"March\" or tt==\"April\" or tt== \"May\":\n",
    "            season.append(\"Autumn\")\n",
    "    elif tt==\"June\" or tt==\"July\" or tt == \"August\":\n",
    "            season.append(\"Summer\")\n",
    "    elif tt==\"September\" or tt==\"October\" or tt== \"November\":\n",
    "            season.append(\"Spring\")"
   ]
  },
  {
   "cell_type": "code",
   "execution_count": null,
   "id": "b0faf28c",
   "metadata": {},
   "outputs": [
    {
     "data": {
      "text/plain": [
       "1019"
      ]
     },
     "execution_count": 118,
     "metadata": {},
     "output_type": "execute_result"
    }
   ],
   "source": [
    "len(season)"
   ]
  },
  {
   "cell_type": "code",
   "execution_count": null,
   "id": "fad48cd7",
   "metadata": {},
   "outputs": [],
   "source": [
    "data2[\"season\"] = season"
   ]
  },
  {
   "cell_type": "code",
   "execution_count": null,
   "id": "bb4aa69b",
   "metadata": {},
   "outputs": [
    {
     "data": {
      "text/plain": [
       "0       Autumn\n",
       "1       Autumn\n",
       "2       Autumn\n",
       "3       Autumn\n",
       "4       Autumn\n",
       "         ...  \n",
       "1014    Autumn\n",
       "1015    Autumn\n",
       "1016    Autumn\n",
       "1017    Autumn\n",
       "1018    Autumn\n",
       "Name: season, Length: 1019, dtype: object"
      ]
     },
     "execution_count": 120,
     "metadata": {},
     "output_type": "execute_result"
    }
   ],
   "source": [
    "data2[\"season\"]"
   ]
  },
  {
   "cell_type": "code",
   "execution_count": null,
   "id": "a5794291",
   "metadata": {},
   "outputs": [
    {
     "name": "stdout",
     "output_type": "stream",
     "text": [
      "2\n"
     ]
    }
   ],
   "source": [
    "import pandas as pd \n",
    "df = pd.Timestamp(\"5/3/2023\")\n",
    "print(df.dayofweek)# will give each day like 0 = monday, 1=tuesday...."
   ]
  },
  {
   "cell_type": "code",
   "execution_count": null,
   "id": "c9fcb674",
   "metadata": {},
   "outputs": [],
   "source": [
    "day_of_week = []"
   ]
  },
  {
   "cell_type": "code",
   "execution_count": null,
   "id": "c72dc9e4",
   "metadata": {},
   "outputs": [],
   "source": [
    "for rr in data2[\"Collection Date\"]:#finding out value of each date and craating day column\n",
    "    str = rr\n",
    "    df = pd.Timestamp(rr)\n",
    "    day = df.dayofweek\n",
    "    day_of_week.append(day)"
   ]
  },
  {
   "cell_type": "code",
   "execution_count": null,
   "id": "fe4744e8",
   "metadata": {},
   "outputs": [
    {
     "data": {
      "text/plain": [
       "1019"
      ]
     },
     "execution_count": 124,
     "metadata": {},
     "output_type": "execute_result"
    }
   ],
   "source": [
    "len(day_of_week)"
   ]
  },
  {
   "cell_type": "code",
   "execution_count": null,
   "id": "93e9332a",
   "metadata": {},
   "outputs": [],
   "source": [
    "data2[\"day\"]=day_of_week # putting the created day column to the data"
   ]
  },
  {
   "cell_type": "code",
   "execution_count": null,
   "id": "915d5564",
   "metadata": {
    "scrolled": true
   },
   "outputs": [
    {
     "data": {
      "text/html": [
       "<div>\n",
       "<style scoped>\n",
       "    .dataframe tbody tr th:only-of-type {\n",
       "        vertical-align: middle;\n",
       "    }\n",
       "\n",
       "    .dataframe tbody tr th {\n",
       "        vertical-align: top;\n",
       "    }\n",
       "\n",
       "    .dataframe thead th {\n",
       "        text-align: right;\n",
       "    }\n",
       "</style>\n",
       "<table border=\"1\" class=\"dataframe\">\n",
       "  <thead>\n",
       "    <tr style=\"text-align: right;\">\n",
       "      <th></th>\n",
       "      <th>Market Place</th>\n",
       "      <th>Crop Variety</th>\n",
       "      <th>Retail Max</th>\n",
       "      <th>Volume</th>\n",
       "      <th>Collection Date</th>\n",
       "      <th>month</th>\n",
       "      <th>season</th>\n",
       "      <th>day</th>\n",
       "    </tr>\n",
       "  </thead>\n",
       "  <tbody>\n",
       "    <tr>\n",
       "      <th>0</th>\n",
       "      <td>Bahir Dar kebele 04</td>\n",
       "      <td>White Teff (Quintal)</td>\n",
       "      <td>2650</td>\n",
       "      <td>Sufficient</td>\n",
       "      <td>5/2/2019</td>\n",
       "      <td>May</td>\n",
       "      <td>Autumn</td>\n",
       "      <td>3</td>\n",
       "    </tr>\n",
       "    <tr>\n",
       "      <th>1</th>\n",
       "      <td>Hawassa</td>\n",
       "      <td>White Teff (Quintal)</td>\n",
       "      <td>3000</td>\n",
       "      <td>Under</td>\n",
       "      <td>5/6/2019</td>\n",
       "      <td>May</td>\n",
       "      <td>Autumn</td>\n",
       "      <td>0</td>\n",
       "    </tr>\n",
       "    <tr>\n",
       "      <th>2</th>\n",
       "      <td>Humera</td>\n",
       "      <td>White Teff (Quintal)</td>\n",
       "      <td>0</td>\n",
       "      <td>Sufficient</td>\n",
       "      <td>5/8/2019</td>\n",
       "      <td>May</td>\n",
       "      <td>Autumn</td>\n",
       "      <td>2</td>\n",
       "    </tr>\n",
       "    <tr>\n",
       "      <th>3</th>\n",
       "      <td>Bahir Dar kebele 04</td>\n",
       "      <td>White Teff (Quintal)</td>\n",
       "      <td>2700</td>\n",
       "      <td>Sufficient</td>\n",
       "      <td>5/9/2019</td>\n",
       "      <td>May</td>\n",
       "      <td>Autumn</td>\n",
       "      <td>3</td>\n",
       "    </tr>\n",
       "    <tr>\n",
       "      <th>4</th>\n",
       "      <td>Hawassa</td>\n",
       "      <td>White Teff (Quintal)</td>\n",
       "      <td>3000</td>\n",
       "      <td>Under</td>\n",
       "      <td>5/13/2019</td>\n",
       "      <td>May</td>\n",
       "      <td>Autumn</td>\n",
       "      <td>0</td>\n",
       "    </tr>\n",
       "  </tbody>\n",
       "</table>\n",
       "</div>"
      ],
      "text/plain": [
       "          Market Place          Crop Variety  Retail Max      Volume  \\\n",
       "0  Bahir Dar kebele 04  White Teff (Quintal)        2650  Sufficient   \n",
       "1             Hawassa   White Teff (Quintal)        3000       Under   \n",
       "2               Humera  White Teff (Quintal)           0  Sufficient   \n",
       "3  Bahir Dar kebele 04  White Teff (Quintal)        2700  Sufficient   \n",
       "4             Hawassa   White Teff (Quintal)        3000       Under   \n",
       "\n",
       "  Collection Date month  season  day  \n",
       "0        5/2/2019   May  Autumn    3  \n",
       "1        5/6/2019   May  Autumn    0  \n",
       "2        5/8/2019   May  Autumn    2  \n",
       "3        5/9/2019   May  Autumn    3  \n",
       "4       5/13/2019   May  Autumn    0  "
      ]
     },
     "execution_count": 126,
     "metadata": {},
     "output_type": "execute_result"
    }
   ],
   "source": [
    "data2.head()"
   ]
  },
  {
   "cell_type": "code",
   "execution_count": null,
   "id": "fdba039d",
   "metadata": {},
   "outputs": [],
   "source": [
    "data1 = data2.copy()"
   ]
  },
  {
   "cell_type": "code",
   "execution_count": null,
   "id": "d96cb416",
   "metadata": {},
   "outputs": [
    {
     "name": "stderr",
     "output_type": "stream",
     "text": [
      "C:\\Users\\user\\AppData\\Local\\Temp\\ipykernel_20248\\2882594863.py:1: FutureWarning: In a future version of pandas all arguments of DataFrame.drop except for the argument 'labels' will be keyword-only.\n",
      "  data2 = data2.drop('Collection Date', 1) #delating the column collection date not necessary any more\n"
     ]
    }
   ],
   "source": [
    "data2 = data2.drop('Collection Date', 1) #delating the column collection date not necessary any more"
   ]
  },
  {
   "cell_type": "code",
   "execution_count": null,
   "id": "b402ba1e",
   "metadata": {
    "scrolled": true
   },
   "outputs": [
    {
     "data": {
      "text/html": [
       "<div>\n",
       "<style scoped>\n",
       "    .dataframe tbody tr th:only-of-type {\n",
       "        vertical-align: middle;\n",
       "    }\n",
       "\n",
       "    .dataframe tbody tr th {\n",
       "        vertical-align: top;\n",
       "    }\n",
       "\n",
       "    .dataframe thead th {\n",
       "        text-align: right;\n",
       "    }\n",
       "</style>\n",
       "<table border=\"1\" class=\"dataframe\">\n",
       "  <thead>\n",
       "    <tr style=\"text-align: right;\">\n",
       "      <th></th>\n",
       "      <th>Market Place</th>\n",
       "      <th>Crop Variety</th>\n",
       "      <th>Retail Max</th>\n",
       "      <th>Volume</th>\n",
       "      <th>month</th>\n",
       "      <th>season</th>\n",
       "      <th>day</th>\n",
       "    </tr>\n",
       "  </thead>\n",
       "  <tbody>\n",
       "    <tr>\n",
       "      <th>0</th>\n",
       "      <td>Bahir Dar kebele 04</td>\n",
       "      <td>White Teff (Quintal)</td>\n",
       "      <td>2650</td>\n",
       "      <td>Sufficient</td>\n",
       "      <td>May</td>\n",
       "      <td>Autumn</td>\n",
       "      <td>3</td>\n",
       "    </tr>\n",
       "    <tr>\n",
       "      <th>1</th>\n",
       "      <td>Hawassa</td>\n",
       "      <td>White Teff (Quintal)</td>\n",
       "      <td>3000</td>\n",
       "      <td>Under</td>\n",
       "      <td>May</td>\n",
       "      <td>Autumn</td>\n",
       "      <td>0</td>\n",
       "    </tr>\n",
       "    <tr>\n",
       "      <th>2</th>\n",
       "      <td>Humera</td>\n",
       "      <td>White Teff (Quintal)</td>\n",
       "      <td>0</td>\n",
       "      <td>Sufficient</td>\n",
       "      <td>May</td>\n",
       "      <td>Autumn</td>\n",
       "      <td>2</td>\n",
       "    </tr>\n",
       "    <tr>\n",
       "      <th>3</th>\n",
       "      <td>Bahir Dar kebele 04</td>\n",
       "      <td>White Teff (Quintal)</td>\n",
       "      <td>2700</td>\n",
       "      <td>Sufficient</td>\n",
       "      <td>May</td>\n",
       "      <td>Autumn</td>\n",
       "      <td>3</td>\n",
       "    </tr>\n",
       "    <tr>\n",
       "      <th>4</th>\n",
       "      <td>Hawassa</td>\n",
       "      <td>White Teff (Quintal)</td>\n",
       "      <td>3000</td>\n",
       "      <td>Under</td>\n",
       "      <td>May</td>\n",
       "      <td>Autumn</td>\n",
       "      <td>0</td>\n",
       "    </tr>\n",
       "  </tbody>\n",
       "</table>\n",
       "</div>"
      ],
      "text/plain": [
       "          Market Place          Crop Variety  Retail Max      Volume month  \\\n",
       "0  Bahir Dar kebele 04  White Teff (Quintal)        2650  Sufficient   May   \n",
       "1             Hawassa   White Teff (Quintal)        3000       Under   May   \n",
       "2               Humera  White Teff (Quintal)           0  Sufficient   May   \n",
       "3  Bahir Dar kebele 04  White Teff (Quintal)        2700  Sufficient   May   \n",
       "4             Hawassa   White Teff (Quintal)        3000       Under   May   \n",
       "\n",
       "   season  day  \n",
       "0  Autumn    3  \n",
       "1  Autumn    0  \n",
       "2  Autumn    2  \n",
       "3  Autumn    3  \n",
       "4  Autumn    0  "
      ]
     },
     "execution_count": 129,
     "metadata": {},
     "output_type": "execute_result"
    }
   ],
   "source": [
    "data2.head()"
   ]
  },
  {
   "cell_type": "code",
   "execution_count": null,
   "id": "d0735c49",
   "metadata": {},
   "outputs": [
    {
     "name": "stderr",
     "output_type": "stream",
     "text": [
      "C:\\Users\\user\\anaconda3\\lib\\site-packages\\seaborn\\_decorators.py:36: FutureWarning: Pass the following variable as a keyword arg: x. From version 0.12, the only valid positional argument will be `data`, and passing other arguments without an explicit keyword will result in an error or misinterpretation.\n",
      "  warnings.warn(\n"
     ]
    },
    {
     "data": {
      "text/plain": [
       "<AxesSubplot:xlabel='Retail Max'>"
      ]
     },
     "execution_count": 130,
     "metadata": {},
     "output_type": "execute_result"
    },
    {
     "data": {
      "image/png": "[encoded data removed]",
      "text/plain": [
       "<Figure size 432x288 with 1 Axes>"
      ]
     },
     "metadata": {
      "needs_background": "light"
     },
     "output_type": "display_data"
    }
   ],
   "source": [
    "import seaborn as sns\n",
    "sns.boxplot(data2['Retail Max'])# look if there are out layers and remove them"
   ]
  },
  {
   "cell_type": "markdown",
   "id": "8bb442a5",
   "metadata": {},
   "source": [
    "# Removing out layers of Retail Max price 25%<values<75% out of this range"
   ]
  },
  {
   "cell_type": "code",
   "execution_count": null,
   "id": "7e043ca6",
   "metadata": {},
   "outputs": [],
   "source": [
    "#IQR\n",
    "Q1=np.percentile(data2['Retail Max'], 25,interpolation=\"midpoint\")\n",
    "Q3=np.percentile(data2['Retail Max'], 75,interpolation=\"midpoint\")\n",
    "IQR=Q3-Q1"
   ]
  },
  {
   "cell_type": "code",
   "execution_count": null,
   "id": "868c4221",
   "metadata": {},
   "outputs": [],
   "source": [
    "#Upper bound\n",
    "upper=np.where(data2['Retail Max']>=(Q3+1.5*IQR))\n",
    "#Lower bound\n",
    "lower=np.where(data2['Retail Max']<=(Q1-1.5*IQR))\n"
   ]
  },
  {
   "cell_type": "code",
   "execution_count": null,
   "id": "b7120805",
   "metadata": {},
   "outputs": [
    {
     "name": "stdout",
     "output_type": "stream",
     "text": [
      "[1009 1011 1013 1015 1016 1017 1018] [  2   5   8  12  16  19  22  25  29  33  37  40  43  47  54  60  65  69\n",
      "  70  71  72  73  74  80  84  88  91  97 102 112 119 126 133 140 148 155\n",
      " 162 168 175 181 188 195 203 210 218 227 235 241 245 250 255 259 265 272\n",
      " 280 288 296 303 311 317 324 332 337 342 350 357 364 372 380 387 395 401\n",
      " 409 416 422 429 435 442]\n"
     ]
    }
   ],
   "source": [
    "print(upper[0],lower[0])"
   ]
  },
  {
   "cell_type": "code",
   "execution_count": null,
   "id": "906d7bcb",
   "metadata": {},
   "outputs": [
    {
     "name": "stdout",
     "output_type": "stream",
     "text": [
      "New Shape:  (934, 7)\n"
     ]
    }
   ],
   "source": [
    "#...Removing the outliers...\n",
    "data2.drop(upper[0], inplace=True)\n",
    "data2.drop(lower[0], inplace=True)\n",
    "\n",
    "print(\"New Shape: \", data2.shape)"
   ]
  },
  {
   "cell_type": "code",
   "execution_count": null,
   "id": "8ad31d1c",
   "metadata": {
    "scrolled": true
   },
   "outputs": [
    {
     "name": "stderr",
     "output_type": "stream",
     "text": [
      "C:\\Users\\user\\anaconda3\\lib\\site-packages\\seaborn\\_decorators.py:36: FutureWarning: Pass the following variable as a keyword arg: x. From version 0.12, the only valid positional argument will be `data`, and passing other arguments without an explicit keyword will result in an error or misinterpretation.\n",
      "  warnings.warn(\n"
     ]
    },
    {
     "data": {
      "text/plain": [
       "<AxesSubplot:xlabel='Retail Max'>"
      ]
     },
     "execution_count": 135,
     "metadata": {},
     "output_type": "execute_result"
    },
    {
     "data": {
      "image/png": "[encoded data removed]",
      "text/plain": [
       "<Figure size 432x288 with 1 Axes>"
      ]
     },
     "metadata": {
      "needs_background": "light"
     },
     "output_type": "display_data"
    }
   ],
   "source": [
    "sns.boxplot(data2['Retail Max'])"
   ]
  },
  {
   "cell_type": "markdown",
   "id": "205206c2",
   "metadata": {},
   "source": [
    "# Graphical Analysis"
   ]
  },
  {
   "cell_type": "code",
   "execution_count": null,
   "id": "dc454370",
   "metadata": {},
   "outputs": [
    {
     "data": {
      "application/javascript": "\n        if (window._pyforest_update_imports_cell) { window._pyforest_update_imports_cell('import matplotlib.pyplot as plt'); }\n    ",
      "text/plain": [
       "<IPython.core.display.Javascript object>"
      ]
     },
     "metadata": {},
     "output_type": "display_data"
    },
    {
     "data": {
      "image/png": "[encoded data removed]",
      "text/plain": [
       "<Figure size 1296x432 with 1 Axes>"
      ]
     },
     "metadata": {
      "needs_background": "light"
     },
     "output_type": "display_data"
    }
   ],
   "source": [
    "# market place  vs retail max\n",
    "sns.catplot(y = \"Retail Max\", x = \"Market Place\", data = data2.sort_values(\"Retail Max\", ascending = False), kind=\"boxen\", height = 6, aspect = 3)\n",
    "plt.show()"
   ]
  },
  {
   "cell_type": "code",
   "execution_count": null,
   "id": "56bbed06",
   "metadata": {},
   "outputs": [
    {
     "data": {
      "application/javascript": "\n        if (window._pyforest_update_imports_cell) { window._pyforest_update_imports_cell('import matplotlib.pyplot as plt'); }\n    ",
      "text/plain": [
       "<IPython.core.display.Javascript object>"
      ]
     },
     "metadata": {},
     "output_type": "display_data"
    },
    {
     "data": {
      "image/png": "[encoded data removed]",
      "text/plain": [
       "<Figure size 1296x432 with 1 Axes>"
      ]
     },
     "metadata": {
      "needs_background": "light"
     },
     "output_type": "display_data"
    }
   ],
   "source": [
    "# market place  vs retail max\n",
    "sns.catplot(y = \"Retail Max\", x = \"season\", data = data2.sort_values(\"Retail Max\", ascending = False), kind=\"boxen\", height = 6, aspect = 3)\n",
    "plt.show()"
   ]
  },
  {
   "cell_type": "code",
   "execution_count": null,
   "id": "29b404b2",
   "metadata": {},
   "outputs": [
    {
     "data": {
      "application/javascript": "\n        if (window._pyforest_update_imports_cell) { window._pyforest_update_imports_cell('import matplotlib.pyplot as plt'); }\n    ",
      "text/plain": [
       "<IPython.core.display.Javascript object>"
      ]
     },
     "metadata": {},
     "output_type": "display_data"
    },
    {
     "data": {
      "image/png": "[encoded data removed]",
      "text/plain": [
       "<Figure size 1296x432 with 1 Axes>"
      ]
     },
     "metadata": {
      "needs_background": "light"
     },
     "output_type": "display_data"
    }
   ],
   "source": [
    "# market place  vs retail max\n",
    "sns.catplot(y = \"Retail Max\", x = \"month\", data = data2.sort_values(\"Retail Max\", ascending = False), kind=\"boxen\", height = 6, aspect = 3)\n",
    "plt.show()"
   ]
  },
  {
   "cell_type": "code",
   "execution_count": null,
   "id": "298612ed",
   "metadata": {
    "scrolled": false
   },
   "outputs": [
    {
     "data": {
      "application/javascript": "\n        if (window._pyforest_update_imports_cell) { window._pyforest_update_imports_cell('import matplotlib.pyplot as plt'); }\n    ",
      "text/plain": [
       "<IPython.core.display.Javascript object>"
      ]
     },
     "metadata": {},
     "output_type": "display_data"
    },
    {
     "data": {
      "image/png": "[encoded data removed]",
      "text/plain": [
       "<Figure size 1296x432 with 1 Axes>"
      ]
     },
     "metadata": {
      "needs_background": "light"
     },
     "output_type": "display_data"
    }
   ],
   "source": [
    "# market place  vs retail max\n",
    "sns.catplot(y = \"Retail Max\", x = \"day\", data = data2.sort_values(\"Retail Max\", ascending = False), kind=\"boxen\", height = 6, aspect = 3)\n",
    "plt.show()"
   ]
  },
  {
   "cell_type": "code",
   "execution_count": null,
   "id": "dc933585",
   "metadata": {},
   "outputs": [
    {
     "data": {
      "application/javascript": "\n        if (window._pyforest_update_imports_cell) { window._pyforest_update_imports_cell('import matplotlib.pyplot as plt'); }\n    ",
      "text/plain": [
       "<IPython.core.display.Javascript object>"
      ]
     },
     "metadata": {},
     "output_type": "display_data"
    },
    {
     "data": {
      "image/png": "[encoded data removed]",
      "text/plain": [
       "<Figure size 1296x432 with 1 Axes>"
      ]
     },
     "metadata": {
      "needs_background": "light"
     },
     "output_type": "display_data"
    }
   ],
   "source": [
    "# market place  vs retail max\n",
    "sns.catplot(y = \"Retail Max\", x = \"Volume\", data = data2.sort_values(\"Retail Max\", ascending = False), kind=\"boxen\", height = 6, aspect = 3)\n",
    "plt.show()"
   ]
  },
  {
   "cell_type": "code",
   "execution_count": null,
   "id": "680c638b",
   "metadata": {
    "scrolled": true
   },
   "outputs": [
    {
     "data": {
      "text/html": [
       "<div>\n",
       "<style scoped>\n",
       "    .dataframe tbody tr th:only-of-type {\n",
       "        vertical-align: middle;\n",
       "    }\n",
       "\n",
       "    .dataframe tbody tr th {\n",
       "        vertical-align: top;\n",
       "    }\n",
       "\n",
       "    .dataframe thead th {\n",
       "        text-align: right;\n",
       "    }\n",
       "</style>\n",
       "<table border=\"1\" class=\"dataframe\">\n",
       "  <thead>\n",
       "    <tr style=\"text-align: right;\">\n",
       "      <th></th>\n",
       "      <th>Market Place</th>\n",
       "      <th>Crop Variety</th>\n",
       "      <th>Retail Max</th>\n",
       "      <th>Volume</th>\n",
       "      <th>month</th>\n",
       "      <th>season</th>\n",
       "      <th>day</th>\n",
       "    </tr>\n",
       "  </thead>\n",
       "  <tbody>\n",
       "    <tr>\n",
       "      <th>0</th>\n",
       "      <td>Bahir Dar kebele 04</td>\n",
       "      <td>White Teff (Quintal)</td>\n",
       "      <td>2650</td>\n",
       "      <td>Sufficient</td>\n",
       "      <td>May</td>\n",
       "      <td>Autumn</td>\n",
       "      <td>3</td>\n",
       "    </tr>\n",
       "    <tr>\n",
       "      <th>1</th>\n",
       "      <td>Hawassa</td>\n",
       "      <td>White Teff (Quintal)</td>\n",
       "      <td>3000</td>\n",
       "      <td>Under</td>\n",
       "      <td>May</td>\n",
       "      <td>Autumn</td>\n",
       "      <td>0</td>\n",
       "    </tr>\n",
       "    <tr>\n",
       "      <th>3</th>\n",
       "      <td>Bahir Dar kebele 04</td>\n",
       "      <td>White Teff (Quintal)</td>\n",
       "      <td>2700</td>\n",
       "      <td>Sufficient</td>\n",
       "      <td>May</td>\n",
       "      <td>Autumn</td>\n",
       "      <td>3</td>\n",
       "    </tr>\n",
       "    <tr>\n",
       "      <th>4</th>\n",
       "      <td>Hawassa</td>\n",
       "      <td>White Teff (Quintal)</td>\n",
       "      <td>3000</td>\n",
       "      <td>Under</td>\n",
       "      <td>May</td>\n",
       "      <td>Autumn</td>\n",
       "      <td>0</td>\n",
       "    </tr>\n",
       "    <tr>\n",
       "      <th>6</th>\n",
       "      <td>Bahir Dar kebele 04</td>\n",
       "      <td>White Teff (Quintal)</td>\n",
       "      <td>2700</td>\n",
       "      <td>Sufficient</td>\n",
       "      <td>May</td>\n",
       "      <td>Autumn</td>\n",
       "      <td>3</td>\n",
       "    </tr>\n",
       "  </tbody>\n",
       "</table>\n",
       "</div>"
      ],
      "text/plain": [
       "          Market Place          Crop Variety  Retail Max      Volume month  \\\n",
       "0  Bahir Dar kebele 04  White Teff (Quintal)        2650  Sufficient   May   \n",
       "1             Hawassa   White Teff (Quintal)        3000       Under   May   \n",
       "3  Bahir Dar kebele 04  White Teff (Quintal)        2700  Sufficient   May   \n",
       "4             Hawassa   White Teff (Quintal)        3000       Under   May   \n",
       "6  Bahir Dar kebele 04  White Teff (Quintal)        2700  Sufficient   May   \n",
       "\n",
       "   season  day  \n",
       "0  Autumn    3  \n",
       "1  Autumn    0  \n",
       "3  Autumn    3  \n",
       "4  Autumn    0  \n",
       "6  Autumn    3  "
      ]
     },
     "execution_count": 141,
     "metadata": {},
     "output_type": "execute_result"
    }
   ],
   "source": [
    "data2.head()"
   ]
  },
  {
   "cell_type": "code",
   "execution_count": null,
   "id": "a53a0369",
   "metadata": {
    "scrolled": true
   },
   "outputs": [
    {
     "name": "stdout",
     "output_type": "stream",
     "text": [
      "<class 'pandas.core.frame.DataFrame'>\n",
      "Int64Index: 934 entries, 0 to 1014\n",
      "Data columns (total 7 columns):\n",
      " #   Column        Non-Null Count  Dtype \n",
      "---  ------        --------------  ----- \n",
      " 0   Market Place  934 non-null    object\n",
      " 1   Crop Variety  934 non-null    object\n",
      " 2   Retail Max    934 non-null    int64 \n",
      " 3   Volume        934 non-null    object\n",
      " 4   month         934 non-null    object\n",
      " 5   season        934 non-null    object\n",
      " 6   day           934 non-null    int64 \n",
      "dtypes: int64(2), object(5)\n",
      "memory usage: 58.4+ KB\n"
     ]
    }
   ],
   "source": [
    "data2.info()"
   ]
  },
  {
   "cell_type": "markdown",
   "id": "5f3ad6c6",
   "metadata": {},
   "source": [
    "# Changing the object data types in to numeric values using oneHotEncoding technique"
   ]
  },
  {
   "cell_type": "code",
   "execution_count": null,
   "id": "809989b8",
   "metadata": {},
   "outputs": [
    {
     "data": {
      "text/html": [
       "<div>\n",
       "<style scoped>\n",
       "    .dataframe tbody tr th:only-of-type {\n",
       "        vertical-align: middle;\n",
       "    }\n",
       "\n",
       "    .dataframe tbody tr th {\n",
       "        vertical-align: top;\n",
       "    }\n",
       "\n",
       "    .dataframe thead th {\n",
       "        text-align: right;\n",
       "    }\n",
       "</style>\n",
       "<table border=\"1\" class=\"dataframe\">\n",
       "  <thead>\n",
       "    <tr style=\"text-align: right;\">\n",
       "      <th></th>\n",
       "      <th>Market Place_Bahir Dar kebele 04</th>\n",
       "      <th>Market Place_Bonga</th>\n",
       "      <th>Market Place_Dilla</th>\n",
       "      <th>Market Place_Hawassa</th>\n",
       "      <th>Market Place_Shire-Endaselassie</th>\n",
       "      <th>Market Place_Sululta</th>\n",
       "      <th>Market Place_Woldia Gebeya</th>\n",
       "    </tr>\n",
       "  </thead>\n",
       "  <tbody>\n",
       "    <tr>\n",
       "      <th>0</th>\n",
       "      <td>1</td>\n",
       "      <td>0</td>\n",
       "      <td>0</td>\n",
       "      <td>0</td>\n",
       "      <td>0</td>\n",
       "      <td>0</td>\n",
       "      <td>0</td>\n",
       "    </tr>\n",
       "    <tr>\n",
       "      <th>1</th>\n",
       "      <td>0</td>\n",
       "      <td>0</td>\n",
       "      <td>0</td>\n",
       "      <td>1</td>\n",
       "      <td>0</td>\n",
       "      <td>0</td>\n",
       "      <td>0</td>\n",
       "    </tr>\n",
       "    <tr>\n",
       "      <th>3</th>\n",
       "      <td>1</td>\n",
       "      <td>0</td>\n",
       "      <td>0</td>\n",
       "      <td>0</td>\n",
       "      <td>0</td>\n",
       "      <td>0</td>\n",
       "      <td>0</td>\n",
       "    </tr>\n",
       "    <tr>\n",
       "      <th>4</th>\n",
       "      <td>0</td>\n",
       "      <td>0</td>\n",
       "      <td>0</td>\n",
       "      <td>1</td>\n",
       "      <td>0</td>\n",
       "      <td>0</td>\n",
       "      <td>0</td>\n",
       "    </tr>\n",
       "    <tr>\n",
       "      <th>6</th>\n",
       "      <td>1</td>\n",
       "      <td>0</td>\n",
       "      <td>0</td>\n",
       "      <td>0</td>\n",
       "      <td>0</td>\n",
       "      <td>0</td>\n",
       "      <td>0</td>\n",
       "    </tr>\n",
       "  </tbody>\n",
       "</table>\n",
       "</div>"
      ],
      "text/plain": [
       "   Market Place_Bahir Dar kebele 04  Market Place_Bonga  Market Place_Dilla  \\\n",
       "0                                 1                   0                   0   \n",
       "1                                 0                   0                   0   \n",
       "3                                 1                   0                   0   \n",
       "4                                 0                   0                   0   \n",
       "6                                 1                   0                   0   \n",
       "\n",
       "   Market Place_Hawassa   Market Place_Shire-Endaselassie  \\\n",
       "0                      0                                0   \n",
       "1                      1                                0   \n",
       "3                      0                                0   \n",
       "4                      1                                0   \n",
       "6                      0                                0   \n",
       "\n",
       "   Market Place_Sululta  Market Place_Woldia Gebeya  \n",
       "0                     0                           0  \n",
       "1                     0                           0  \n",
       "3                     0                           0  \n",
       "4                     0                           0  \n",
       "6                     0                           0  "
      ]
     },
     "execution_count": 143,
     "metadata": {},
     "output_type": "execute_result"
    }
   ],
   "source": [
    "# As market place is Nominal Categorical data we will perform OneHotEncoding\n",
    "\n",
    "Market_Place = data2[[\"Market Place\"]]\n",
    "\n",
    "Market_Place = pd.get_dummies(Market_Place, drop_first= True)\n",
    "\n",
    "Market_Place.head()"
   ]
  },
  {
   "cell_type": "code",
   "execution_count": null,
   "id": "4386df93",
   "metadata": {},
   "outputs": [
    {
     "data": {
      "text/html": [
       "<div>\n",
       "<style scoped>\n",
       "    .dataframe tbody tr th:only-of-type {\n",
       "        vertical-align: middle;\n",
       "    }\n",
       "\n",
       "    .dataframe tbody tr th {\n",
       "        vertical-align: top;\n",
       "    }\n",
       "\n",
       "    .dataframe thead th {\n",
       "        text-align: right;\n",
       "    }\n",
       "</style>\n",
       "<table border=\"1\" class=\"dataframe\">\n",
       "  <thead>\n",
       "    <tr style=\"text-align: right;\">\n",
       "      <th></th>\n",
       "    </tr>\n",
       "  </thead>\n",
       "  <tbody>\n",
       "    <tr>\n",
       "      <th>0</th>\n",
       "    </tr>\n",
       "    <tr>\n",
       "      <th>1</th>\n",
       "    </tr>\n",
       "    <tr>\n",
       "      <th>3</th>\n",
       "    </tr>\n",
       "    <tr>\n",
       "      <th>4</th>\n",
       "    </tr>\n",
       "    <tr>\n",
       "      <th>6</th>\n",
       "    </tr>\n",
       "  </tbody>\n",
       "</table>\n",
       "</div>"
      ],
      "text/plain": [
       "Empty DataFrame\n",
       "Columns: []\n",
       "Index: [0, 1, 3, 4, 6]"
      ]
     },
     "execution_count": 144,
     "metadata": {},
     "output_type": "execute_result"
    }
   ],
   "source": [
    "# As crop variety is Nominal Categorical data we will perform OneHotEncoding\n",
    "\n",
    "Crop_Variety = data2[[\"Crop Variety\"]]\n",
    "\n",
    "Crop_Variety = pd.get_dummies(Crop_Variety, drop_first= True)\n",
    "\n",
    "Crop_Variety.head()"
   ]
  },
  {
   "cell_type": "code",
   "execution_count": null,
   "id": "61eb7942",
   "metadata": {},
   "outputs": [
    {
     "data": {
      "text/html": [
       "<div>\n",
       "<style scoped>\n",
       "    .dataframe tbody tr th:only-of-type {\n",
       "        vertical-align: middle;\n",
       "    }\n",
       "\n",
       "    .dataframe tbody tr th {\n",
       "        vertical-align: top;\n",
       "    }\n",
       "\n",
       "    .dataframe thead th {\n",
       "        text-align: right;\n",
       "    }\n",
       "</style>\n",
       "<table border=\"1\" class=\"dataframe\">\n",
       "  <thead>\n",
       "    <tr style=\"text-align: right;\">\n",
       "      <th></th>\n",
       "      <th>Volume_Sufficient</th>\n",
       "      <th>Volume_Under</th>\n",
       "    </tr>\n",
       "  </thead>\n",
       "  <tbody>\n",
       "    <tr>\n",
       "      <th>0</th>\n",
       "      <td>1</td>\n",
       "      <td>0</td>\n",
       "    </tr>\n",
       "    <tr>\n",
       "      <th>1</th>\n",
       "      <td>0</td>\n",
       "      <td>1</td>\n",
       "    </tr>\n",
       "    <tr>\n",
       "      <th>3</th>\n",
       "      <td>1</td>\n",
       "      <td>0</td>\n",
       "    </tr>\n",
       "    <tr>\n",
       "      <th>4</th>\n",
       "      <td>0</td>\n",
       "      <td>1</td>\n",
       "    </tr>\n",
       "    <tr>\n",
       "      <th>6</th>\n",
       "      <td>1</td>\n",
       "      <td>0</td>\n",
       "    </tr>\n",
       "  </tbody>\n",
       "</table>\n",
       "</div>"
      ],
      "text/plain": [
       "   Volume_Sufficient  Volume_Under\n",
       "0                  1             0\n",
       "1                  0             1\n",
       "3                  1             0\n",
       "4                  0             1\n",
       "6                  1             0"
      ]
     },
     "execution_count": 145,
     "metadata": {},
     "output_type": "execute_result"
    }
   ],
   "source": [
    "# As volume is Nominal Categorical data we will perform OneHotEncoding\n",
    "\n",
    "Volume = data2[[\"Volume\"]]\n",
    "\n",
    "Volume = pd.get_dummies(Volume, drop_first= True)\n",
    "\n",
    "Volume.head()"
   ]
  },
  {
   "cell_type": "code",
   "execution_count": null,
   "id": "5cf2beca",
   "metadata": {},
   "outputs": [
    {
     "data": {
      "text/html": [
       "<div>\n",
       "<style scoped>\n",
       "    .dataframe tbody tr th:only-of-type {\n",
       "        vertical-align: middle;\n",
       "    }\n",
       "\n",
       "    .dataframe tbody tr th {\n",
       "        vertical-align: top;\n",
       "    }\n",
       "\n",
       "    .dataframe thead th {\n",
       "        text-align: right;\n",
       "    }\n",
       "</style>\n",
       "<table border=\"1\" class=\"dataframe\">\n",
       "  <thead>\n",
       "    <tr style=\"text-align: right;\">\n",
       "      <th></th>\n",
       "      <th>season_Spring</th>\n",
       "      <th>season_Summer</th>\n",
       "      <th>season_Winter</th>\n",
       "    </tr>\n",
       "  </thead>\n",
       "  <tbody>\n",
       "    <tr>\n",
       "      <th>0</th>\n",
       "      <td>0</td>\n",
       "      <td>0</td>\n",
       "      <td>0</td>\n",
       "    </tr>\n",
       "    <tr>\n",
       "      <th>1</th>\n",
       "      <td>0</td>\n",
       "      <td>0</td>\n",
       "      <td>0</td>\n",
       "    </tr>\n",
       "    <tr>\n",
       "      <th>3</th>\n",
       "      <td>0</td>\n",
       "      <td>0</td>\n",
       "      <td>0</td>\n",
       "    </tr>\n",
       "    <tr>\n",
       "      <th>4</th>\n",
       "      <td>0</td>\n",
       "      <td>0</td>\n",
       "      <td>0</td>\n",
       "    </tr>\n",
       "    <tr>\n",
       "      <th>6</th>\n",
       "      <td>0</td>\n",
       "      <td>0</td>\n",
       "      <td>0</td>\n",
       "    </tr>\n",
       "    <tr>\n",
       "      <th>7</th>\n",
       "      <td>0</td>\n",
       "      <td>0</td>\n",
       "      <td>0</td>\n",
       "    </tr>\n",
       "    <tr>\n",
       "      <th>9</th>\n",
       "      <td>0</td>\n",
       "      <td>0</td>\n",
       "      <td>0</td>\n",
       "    </tr>\n",
       "    <tr>\n",
       "      <th>10</th>\n",
       "      <td>0</td>\n",
       "      <td>0</td>\n",
       "      <td>0</td>\n",
       "    </tr>\n",
       "    <tr>\n",
       "      <th>11</th>\n",
       "      <td>0</td>\n",
       "      <td>0</td>\n",
       "      <td>0</td>\n",
       "    </tr>\n",
       "    <tr>\n",
       "      <th>13</th>\n",
       "      <td>0</td>\n",
       "      <td>0</td>\n",
       "      <td>0</td>\n",
       "    </tr>\n",
       "  </tbody>\n",
       "</table>\n",
       "</div>"
      ],
      "text/plain": [
       "    season_Spring  season_Summer  season_Winter\n",
       "0               0              0              0\n",
       "1               0              0              0\n",
       "3               0              0              0\n",
       "4               0              0              0\n",
       "6               0              0              0\n",
       "7               0              0              0\n",
       "9               0              0              0\n",
       "10              0              0              0\n",
       "11              0              0              0\n",
       "13              0              0              0"
      ]
     },
     "execution_count": 146,
     "metadata": {},
     "output_type": "execute_result"
    }
   ],
   "source": [
    "# As season is Nominal Categorical data we will perform OneHotEncoding\n",
    "\n",
    "season = data2[[\"season\"]]\n",
    "\n",
    "season = pd.get_dummies(season, drop_first= True)\n",
    "\n",
    "season.head(10)# the rest for the upsent == autumn"
   ]
  },
  {
   "cell_type": "code",
   "execution_count": null,
   "id": "64a7a4c4",
   "metadata": {
    "scrolled": true
   },
   "outputs": [
    {
     "data": {
      "text/html": [
       "<div>\n",
       "<style scoped>\n",
       "    .dataframe tbody tr th:only-of-type {\n",
       "        vertical-align: middle;\n",
       "    }\n",
       "\n",
       "    .dataframe tbody tr th {\n",
       "        vertical-align: top;\n",
       "    }\n",
       "\n",
       "    .dataframe thead th {\n",
       "        text-align: right;\n",
       "    }\n",
       "</style>\n",
       "<table border=\"1\" class=\"dataframe\">\n",
       "  <thead>\n",
       "    <tr style=\"text-align: right;\">\n",
       "      <th></th>\n",
       "      <th>month_August</th>\n",
       "      <th>month_December</th>\n",
       "      <th>month_February</th>\n",
       "      <th>month_January</th>\n",
       "      <th>month_July</th>\n",
       "      <th>month_June</th>\n",
       "      <th>month_March</th>\n",
       "      <th>month_May</th>\n",
       "      <th>month_November</th>\n",
       "      <th>month_October</th>\n",
       "      <th>month_September</th>\n",
       "    </tr>\n",
       "  </thead>\n",
       "  <tbody>\n",
       "    <tr>\n",
       "      <th>0</th>\n",
       "      <td>0</td>\n",
       "      <td>0</td>\n",
       "      <td>0</td>\n",
       "      <td>0</td>\n",
       "      <td>0</td>\n",
       "      <td>0</td>\n",
       "      <td>0</td>\n",
       "      <td>1</td>\n",
       "      <td>0</td>\n",
       "      <td>0</td>\n",
       "      <td>0</td>\n",
       "    </tr>\n",
       "    <tr>\n",
       "      <th>1</th>\n",
       "      <td>0</td>\n",
       "      <td>0</td>\n",
       "      <td>0</td>\n",
       "      <td>0</td>\n",
       "      <td>0</td>\n",
       "      <td>0</td>\n",
       "      <td>0</td>\n",
       "      <td>1</td>\n",
       "      <td>0</td>\n",
       "      <td>0</td>\n",
       "      <td>0</td>\n",
       "    </tr>\n",
       "    <tr>\n",
       "      <th>3</th>\n",
       "      <td>0</td>\n",
       "      <td>0</td>\n",
       "      <td>0</td>\n",
       "      <td>0</td>\n",
       "      <td>0</td>\n",
       "      <td>0</td>\n",
       "      <td>0</td>\n",
       "      <td>1</td>\n",
       "      <td>0</td>\n",
       "      <td>0</td>\n",
       "      <td>0</td>\n",
       "    </tr>\n",
       "    <tr>\n",
       "      <th>4</th>\n",
       "      <td>0</td>\n",
       "      <td>0</td>\n",
       "      <td>0</td>\n",
       "      <td>0</td>\n",
       "      <td>0</td>\n",
       "      <td>0</td>\n",
       "      <td>0</td>\n",
       "      <td>1</td>\n",
       "      <td>0</td>\n",
       "      <td>0</td>\n",
       "      <td>0</td>\n",
       "    </tr>\n",
       "    <tr>\n",
       "      <th>6</th>\n",
       "      <td>0</td>\n",
       "      <td>0</td>\n",
       "      <td>0</td>\n",
       "      <td>0</td>\n",
       "      <td>0</td>\n",
       "      <td>0</td>\n",
       "      <td>0</td>\n",
       "      <td>1</td>\n",
       "      <td>0</td>\n",
       "      <td>0</td>\n",
       "      <td>0</td>\n",
       "    </tr>\n",
       "  </tbody>\n",
       "</table>\n",
       "</div>"
      ],
      "text/plain": [
       "   month_August  month_December  month_February  month_January  month_July  \\\n",
       "0             0               0               0              0           0   \n",
       "1             0               0               0              0           0   \n",
       "3             0               0               0              0           0   \n",
       "4             0               0               0              0           0   \n",
       "6             0               0               0              0           0   \n",
       "\n",
       "   month_June  month_March  month_May  month_November  month_October  \\\n",
       "0           0            0          1               0              0   \n",
       "1           0            0          1               0              0   \n",
       "3           0            0          1               0              0   \n",
       "4           0            0          1               0              0   \n",
       "6           0            0          1               0              0   \n",
       "\n",
       "   month_September  \n",
       "0                0  \n",
       "1                0  \n",
       "3                0  \n",
       "4                0  \n",
       "6                0  "
      ]
     },
     "execution_count": 147,
     "metadata": {},
     "output_type": "execute_result"
    }
   ],
   "source": [
    "# As month is Nominal Categorical data we will perform OneHotEncoding\n",
    "\n",
    "month = data2[[\"month\"]]\n",
    "\n",
    "month = pd.get_dummies(month, drop_first= True)\n",
    "\n",
    "month.head()# "
   ]
  },
  {
   "cell_type": "code",
   "execution_count": null,
   "id": "fd4f3550",
   "metadata": {},
   "outputs": [],
   "source": [
    "data0 = data2.copy()"
   ]
  },
  {
   "cell_type": "markdown",
   "id": "9ed83952",
   "metadata": {},
   "source": [
    "#concatenation of the columns to the data"
   ]
  },
  {
   "cell_type": "code",
   "execution_count": null,
   "id": "1a4bc9d6",
   "metadata": {
    "scrolled": true
   },
   "outputs": [],
   "source": [
    "data = pd.concat([data2, Market_Place, Crop_Variety, Volume, season, month ], axis = 1)"
   ]
  },
  {
   "cell_type": "code",
   "execution_count": null,
   "id": "5fccb7dd",
   "metadata": {
    "scrolled": true
   },
   "outputs": [
    {
     "data": {
      "text/html": [
       "<div>\n",
       "<style scoped>\n",
       "    .dataframe tbody tr th:only-of-type {\n",
       "        vertical-align: middle;\n",
       "    }\n",
       "\n",
       "    .dataframe tbody tr th {\n",
       "        vertical-align: top;\n",
       "    }\n",
       "\n",
       "    .dataframe thead th {\n",
       "        text-align: right;\n",
       "    }\n",
       "</style>\n",
       "<table border=\"1\" class=\"dataframe\">\n",
       "  <thead>\n",
       "    <tr style=\"text-align: right;\">\n",
       "      <th></th>\n",
       "      <th>Market Place</th>\n",
       "      <th>Crop Variety</th>\n",
       "      <th>Retail Max</th>\n",
       "      <th>Volume</th>\n",
       "      <th>month</th>\n",
       "      <th>season</th>\n",
       "      <th>day</th>\n",
       "      <th>Market Place_Bahir Dar kebele 04</th>\n",
       "      <th>Market Place_Bonga</th>\n",
       "      <th>Market Place_Dilla</th>\n",
       "      <th>...</th>\n",
       "      <th>month_December</th>\n",
       "      <th>month_February</th>\n",
       "      <th>month_January</th>\n",
       "      <th>month_July</th>\n",
       "      <th>month_June</th>\n",
       "      <th>month_March</th>\n",
       "      <th>month_May</th>\n",
       "      <th>month_November</th>\n",
       "      <th>month_October</th>\n",
       "      <th>month_September</th>\n",
       "    </tr>\n",
       "  </thead>\n",
       "  <tbody>\n",
       "    <tr>\n",
       "      <th>0</th>\n",
       "      <td>Bahir Dar kebele 04</td>\n",
       "      <td>White Teff (Quintal)</td>\n",
       "      <td>2650</td>\n",
       "      <td>Sufficient</td>\n",
       "      <td>May</td>\n",
       "      <td>Autumn</td>\n",
       "      <td>3</td>\n",
       "      <td>1</td>\n",
       "      <td>0</td>\n",
       "      <td>0</td>\n",
       "      <td>...</td>\n",
       "      <td>0</td>\n",
       "      <td>0</td>\n",
       "      <td>0</td>\n",
       "      <td>0</td>\n",
       "      <td>0</td>\n",
       "      <td>0</td>\n",
       "      <td>1</td>\n",
       "      <td>0</td>\n",
       "      <td>0</td>\n",
       "      <td>0</td>\n",
       "    </tr>\n",
       "    <tr>\n",
       "      <th>1</th>\n",
       "      <td>Hawassa</td>\n",
       "      <td>White Teff (Quintal)</td>\n",
       "      <td>3000</td>\n",
       "      <td>Under</td>\n",
       "      <td>May</td>\n",
       "      <td>Autumn</td>\n",
       "      <td>0</td>\n",
       "      <td>0</td>\n",
       "      <td>0</td>\n",
       "      <td>0</td>\n",
       "      <td>...</td>\n",
       "      <td>0</td>\n",
       "      <td>0</td>\n",
       "      <td>0</td>\n",
       "      <td>0</td>\n",
       "      <td>0</td>\n",
       "      <td>0</td>\n",
       "      <td>1</td>\n",
       "      <td>0</td>\n",
       "      <td>0</td>\n",
       "      <td>0</td>\n",
       "    </tr>\n",
       "    <tr>\n",
       "      <th>3</th>\n",
       "      <td>Bahir Dar kebele 04</td>\n",
       "      <td>White Teff (Quintal)</td>\n",
       "      <td>2700</td>\n",
       "      <td>Sufficient</td>\n",
       "      <td>May</td>\n",
       "      <td>Autumn</td>\n",
       "      <td>3</td>\n",
       "      <td>1</td>\n",
       "      <td>0</td>\n",
       "      <td>0</td>\n",
       "      <td>...</td>\n",
       "      <td>0</td>\n",
       "      <td>0</td>\n",
       "      <td>0</td>\n",
       "      <td>0</td>\n",
       "      <td>0</td>\n",
       "      <td>0</td>\n",
       "      <td>1</td>\n",
       "      <td>0</td>\n",
       "      <td>0</td>\n",
       "      <td>0</td>\n",
       "    </tr>\n",
       "    <tr>\n",
       "      <th>4</th>\n",
       "      <td>Hawassa</td>\n",
       "      <td>White Teff (Quintal)</td>\n",
       "      <td>3000</td>\n",
       "      <td>Under</td>\n",
       "      <td>May</td>\n",
       "      <td>Autumn</td>\n",
       "      <td>0</td>\n",
       "      <td>0</td>\n",
       "      <td>0</td>\n",
       "      <td>0</td>\n",
       "      <td>...</td>\n",
       "      <td>0</td>\n",
       "      <td>0</td>\n",
       "      <td>0</td>\n",
       "      <td>0</td>\n",
       "      <td>0</td>\n",
       "      <td>0</td>\n",
       "      <td>1</td>\n",
       "      <td>0</td>\n",
       "      <td>0</td>\n",
       "      <td>0</td>\n",
       "    </tr>\n",
       "    <tr>\n",
       "      <th>6</th>\n",
       "      <td>Bahir Dar kebele 04</td>\n",
       "      <td>White Teff (Quintal)</td>\n",
       "      <td>2700</td>\n",
       "      <td>Sufficient</td>\n",
       "      <td>May</td>\n",
       "      <td>Autumn</td>\n",
       "      <td>3</td>\n",
       "      <td>1</td>\n",
       "      <td>0</td>\n",
       "      <td>0</td>\n",
       "      <td>...</td>\n",
       "      <td>0</td>\n",
       "      <td>0</td>\n",
       "      <td>0</td>\n",
       "      <td>0</td>\n",
       "      <td>0</td>\n",
       "      <td>0</td>\n",
       "      <td>1</td>\n",
       "      <td>0</td>\n",
       "      <td>0</td>\n",
       "      <td>0</td>\n",
       "    </tr>\n",
       "  </tbody>\n",
       "</table>\n",
       "<p>5 rows × 30 columns</p>\n",
       "</div>"
      ],
      "text/plain": [
       "          Market Place          Crop Variety  Retail Max      Volume month  \\\n",
       "0  Bahir Dar kebele 04  White Teff (Quintal)        2650  Sufficient   May   \n",
       "1             Hawassa   White Teff (Quintal)        3000       Under   May   \n",
       "3  Bahir Dar kebele 04  White Teff (Quintal)        2700  Sufficient   May   \n",
       "4             Hawassa   White Teff (Quintal)        3000       Under   May   \n",
       "6  Bahir Dar kebele 04  White Teff (Quintal)        2700  Sufficient   May   \n",
       "\n",
       "   season  day  Market Place_Bahir Dar kebele 04  Market Place_Bonga  \\\n",
       "0  Autumn    3                                 1                   0   \n",
       "1  Autumn    0                                 0                   0   \n",
       "3  Autumn    3                                 1                   0   \n",
       "4  Autumn    0                                 0                   0   \n",
       "6  Autumn    3                                 1                   0   \n",
       "\n",
       "   Market Place_Dilla  ...  month_December  month_February  month_January  \\\n",
       "0                   0  ...               0               0              0   \n",
       "1                   0  ...               0               0              0   \n",
       "3                   0  ...               0               0              0   \n",
       "4                   0  ...               0               0              0   \n",
       "6                   0  ...               0               0              0   \n",
       "\n",
       "   month_July  month_June  month_March  month_May  month_November  \\\n",
       "0           0           0            0          1               0   \n",
       "1           0           0            0          1               0   \n",
       "3           0           0            0          1               0   \n",
       "4           0           0            0          1               0   \n",
       "6           0           0            0          1               0   \n",
       "\n",
       "   month_October  month_September  \n",
       "0              0                0  \n",
       "1              0                0  \n",
       "3              0                0  \n",
       "4              0                0  \n",
       "6              0                0  \n",
       "\n",
       "[5 rows x 30 columns]"
      ]
     },
     "execution_count": 150,
     "metadata": {},
     "output_type": "execute_result"
    }
   ],
   "source": [
    "data.head()"
   ]
  },
  {
   "cell_type": "code",
   "execution_count": null,
   "id": "c55d4004",
   "metadata": {},
   "outputs": [],
   "source": [
    "datas = data.copy()"
   ]
  },
  {
   "cell_type": "markdown",
   "id": "0e3f3631",
   "metadata": {},
   "source": [
    "# delating the oneHotEncoded columns"
   ]
  },
  {
   "cell_type": "code",
   "execution_count": null,
   "id": "b818603d",
   "metadata": {},
   "outputs": [],
   "source": [
    "data.drop([\"Market Place\", \"Crop Variety\", \"Volume\", \"season\", \"month\"], axis = 1, inplace = True)"
   ]
  },
  {
   "cell_type": "code",
   "execution_count": null,
   "id": "e8103b04",
   "metadata": {
    "scrolled": true
   },
   "outputs": [
    {
     "data": {
      "text/html": [
       "<div>\n",
       "<style scoped>\n",
       "    .dataframe tbody tr th:only-of-type {\n",
       "        vertical-align: middle;\n",
       "    }\n",
       "\n",
       "    .dataframe tbody tr th {\n",
       "        vertical-align: top;\n",
       "    }\n",
       "\n",
       "    .dataframe thead th {\n",
       "        text-align: right;\n",
       "    }\n",
       "</style>\n",
       "<table border=\"1\" class=\"dataframe\">\n",
       "  <thead>\n",
       "    <tr style=\"text-align: right;\">\n",
       "      <th></th>\n",
       "      <th>Retail Max</th>\n",
       "      <th>day</th>\n",
       "      <th>Market Place_Bahir Dar kebele 04</th>\n",
       "      <th>Market Place_Bonga</th>\n",
       "      <th>Market Place_Dilla</th>\n",
       "      <th>Market Place_Hawassa</th>\n",
       "      <th>Market Place_Shire-Endaselassie</th>\n",
       "      <th>Market Place_Sululta</th>\n",
       "      <th>Market Place_Woldia Gebeya</th>\n",
       "      <th>Volume_Sufficient</th>\n",
       "      <th>...</th>\n",
       "      <th>month_December</th>\n",
       "      <th>month_February</th>\n",
       "      <th>month_January</th>\n",
       "      <th>month_July</th>\n",
       "      <th>month_June</th>\n",
       "      <th>month_March</th>\n",
       "      <th>month_May</th>\n",
       "      <th>month_November</th>\n",
       "      <th>month_October</th>\n",
       "      <th>month_September</th>\n",
       "    </tr>\n",
       "  </thead>\n",
       "  <tbody>\n",
       "    <tr>\n",
       "      <th>0</th>\n",
       "      <td>2650</td>\n",
       "      <td>3</td>\n",
       "      <td>1</td>\n",
       "      <td>0</td>\n",
       "      <td>0</td>\n",
       "      <td>0</td>\n",
       "      <td>0</td>\n",
       "      <td>0</td>\n",
       "      <td>0</td>\n",
       "      <td>1</td>\n",
       "      <td>...</td>\n",
       "      <td>0</td>\n",
       "      <td>0</td>\n",
       "      <td>0</td>\n",
       "      <td>0</td>\n",
       "      <td>0</td>\n",
       "      <td>0</td>\n",
       "      <td>1</td>\n",
       "      <td>0</td>\n",
       "      <td>0</td>\n",
       "      <td>0</td>\n",
       "    </tr>\n",
       "    <tr>\n",
       "      <th>1</th>\n",
       "      <td>3000</td>\n",
       "      <td>0</td>\n",
       "      <td>0</td>\n",
       "      <td>0</td>\n",
       "      <td>0</td>\n",
       "      <td>1</td>\n",
       "      <td>0</td>\n",
       "      <td>0</td>\n",
       "      <td>0</td>\n",
       "      <td>0</td>\n",
       "      <td>...</td>\n",
       "      <td>0</td>\n",
       "      <td>0</td>\n",
       "      <td>0</td>\n",
       "      <td>0</td>\n",
       "      <td>0</td>\n",
       "      <td>0</td>\n",
       "      <td>1</td>\n",
       "      <td>0</td>\n",
       "      <td>0</td>\n",
       "      <td>0</td>\n",
       "    </tr>\n",
       "    <tr>\n",
       "      <th>3</th>\n",
       "      <td>2700</td>\n",
       "      <td>3</td>\n",
       "      <td>1</td>\n",
       "      <td>0</td>\n",
       "      <td>0</td>\n",
       "      <td>0</td>\n",
       "      <td>0</td>\n",
       "      <td>0</td>\n",
       "      <td>0</td>\n",
       "      <td>1</td>\n",
       "      <td>...</td>\n",
       "      <td>0</td>\n",
       "      <td>0</td>\n",
       "      <td>0</td>\n",
       "      <td>0</td>\n",
       "      <td>0</td>\n",
       "      <td>0</td>\n",
       "      <td>1</td>\n",
       "      <td>0</td>\n",
       "      <td>0</td>\n",
       "      <td>0</td>\n",
       "    </tr>\n",
       "    <tr>\n",
       "      <th>4</th>\n",
       "      <td>3000</td>\n",
       "      <td>0</td>\n",
       "      <td>0</td>\n",
       "      <td>0</td>\n",
       "      <td>0</td>\n",
       "      <td>1</td>\n",
       "      <td>0</td>\n",
       "      <td>0</td>\n",
       "      <td>0</td>\n",
       "      <td>0</td>\n",
       "      <td>...</td>\n",
       "      <td>0</td>\n",
       "      <td>0</td>\n",
       "      <td>0</td>\n",
       "      <td>0</td>\n",
       "      <td>0</td>\n",
       "      <td>0</td>\n",
       "      <td>1</td>\n",
       "      <td>0</td>\n",
       "      <td>0</td>\n",
       "      <td>0</td>\n",
       "    </tr>\n",
       "    <tr>\n",
       "      <th>6</th>\n",
       "      <td>2700</td>\n",
       "      <td>3</td>\n",
       "      <td>1</td>\n",
       "      <td>0</td>\n",
       "      <td>0</td>\n",
       "      <td>0</td>\n",
       "      <td>0</td>\n",
       "      <td>0</td>\n",
       "      <td>0</td>\n",
       "      <td>1</td>\n",
       "      <td>...</td>\n",
       "      <td>0</td>\n",
       "      <td>0</td>\n",
       "      <td>0</td>\n",
       "      <td>0</td>\n",
       "      <td>0</td>\n",
       "      <td>0</td>\n",
       "      <td>1</td>\n",
       "      <td>0</td>\n",
       "      <td>0</td>\n",
       "      <td>0</td>\n",
       "    </tr>\n",
       "  </tbody>\n",
       "</table>\n",
       "<p>5 rows × 25 columns</p>\n",
       "</div>"
      ],
      "text/plain": [
       "   Retail Max  day  Market Place_Bahir Dar kebele 04  Market Place_Bonga  \\\n",
       "0        2650    3                                 1                   0   \n",
       "1        3000    0                                 0                   0   \n",
       "3        2700    3                                 1                   0   \n",
       "4        3000    0                                 0                   0   \n",
       "6        2700    3                                 1                   0   \n",
       "\n",
       "   Market Place_Dilla  Market Place_Hawassa   Market Place_Shire-Endaselassie  \\\n",
       "0                   0                      0                                0   \n",
       "1                   0                      1                                0   \n",
       "3                   0                      0                                0   \n",
       "4                   0                      1                                0   \n",
       "6                   0                      0                                0   \n",
       "\n",
       "   Market Place_Sululta  Market Place_Woldia Gebeya  Volume_Sufficient  ...  \\\n",
       "0                     0                           0                  1  ...   \n",
       "1                     0                           0                  0  ...   \n",
       "3                     0                           0                  1  ...   \n",
       "4                     0                           0                  0  ...   \n",
       "6                     0                           0                  1  ...   \n",
       "\n",
       "   month_December  month_February  month_January  month_July  month_June  \\\n",
       "0               0               0              0           0           0   \n",
       "1               0               0              0           0           0   \n",
       "3               0               0              0           0           0   \n",
       "4               0               0              0           0           0   \n",
       "6               0               0              0           0           0   \n",
       "\n",
       "   month_March  month_May  month_November  month_October  month_September  \n",
       "0            0          1               0              0                0  \n",
       "1            0          1               0              0                0  \n",
       "3            0          1               0              0                0  \n",
       "4            0          1               0              0                0  \n",
       "6            0          1               0              0                0  \n",
       "\n",
       "[5 rows x 25 columns]"
      ]
     },
     "execution_count": 153,
     "metadata": {},
     "output_type": "execute_result"
    }
   ],
   "source": [
    "data.head()"
   ]
  },
  {
   "cell_type": "markdown",
   "id": "c8e3a868",
   "metadata": {},
   "source": [
    "# splitting the data in  to train and test data "
   ]
  },
  {
   "cell_type": "code",
   "execution_count": null,
   "id": "35b38ac0",
   "metadata": {},
   "outputs": [
    {
     "data": {
      "text/plain": [
       "Index(['Retail Max', 'day', 'Market Place_Bahir Dar kebele 04',\n",
       "       'Market Place_Bonga', 'Market Place_Dilla', 'Market Place_Hawassa ',\n",
       "       'Market Place_Shire-Endaselassie', 'Market Place_Sululta',\n",
       "       'Market Place_Woldia Gebeya', 'Volume_Sufficient', 'Volume_Under',\n",
       "       'season_Spring', 'season_Summer', 'season_Winter', 'month_August',\n",
       "       'month_December', 'month_February', 'month_January', 'month_July',\n",
       "       'month_June', 'month_March', 'month_May', 'month_November',\n",
       "       'month_October', 'month_September'],\n",
       "      dtype='object')"
      ]
     },
     "execution_count": 154,
     "metadata": {},
     "output_type": "execute_result"
    }
   ],
   "source": [
    "data.columns"
   ]
  },
  {
   "cell_type": "code",
   "execution_count": null,
   "id": "c06d853e",
   "metadata": {},
   "outputs": [],
   "source": [
    "features = data.loc[:,['day', 'Market Place_Bahir Dar kebele 04',\n",
    "       'Market Place_Bonga', 'Market Place_Dilla', 'Market Place_Hawassa ',\n",
    "       'Market Place_Shire-Endaselassie', 'Market Place_Sululta',\n",
    "       'Market Place_Woldia Gebeya', 'Volume_Sufficient', 'Volume_Under',\n",
    "       'season_Spring', 'season_Summer', 'season_Winter', 'month_August',\n",
    "       'month_December', 'month_February', 'month_January', 'month_July',\n",
    "       'month_June', 'month_March', 'month_May', 'month_November',\n",
    "       'month_October', 'month_September']]"
   ]
  },
  {
   "cell_type": "code",
   "execution_count": null,
   "id": "88caef8d",
   "metadata": {},
   "outputs": [
    {
     "data": {
      "text/html": [
       "<div>\n",
       "<style scoped>\n",
       "    .dataframe tbody tr th:only-of-type {\n",
       "        vertical-align: middle;\n",
       "    }\n",
       "\n",
       "    .dataframe tbody tr th {\n",
       "        vertical-align: top;\n",
       "    }\n",
       "\n",
       "    .dataframe thead th {\n",
       "        text-align: right;\n",
       "    }\n",
       "</style>\n",
       "<table border=\"1\" class=\"dataframe\">\n",
       "  <thead>\n",
       "    <tr style=\"text-align: right;\">\n",
       "      <th></th>\n",
       "      <th>day</th>\n",
       "      <th>Market Place_Bahir Dar kebele 04</th>\n",
       "      <th>Market Place_Bonga</th>\n",
       "      <th>Market Place_Dilla</th>\n",
       "      <th>Market Place_Hawassa</th>\n",
       "      <th>Market Place_Shire-Endaselassie</th>\n",
       "      <th>Market Place_Sululta</th>\n",
       "      <th>Market Place_Woldia Gebeya</th>\n",
       "      <th>Volume_Sufficient</th>\n",
       "      <th>Volume_Under</th>\n",
       "      <th>...</th>\n",
       "      <th>month_December</th>\n",
       "      <th>month_February</th>\n",
       "      <th>month_January</th>\n",
       "      <th>month_July</th>\n",
       "      <th>month_June</th>\n",
       "      <th>month_March</th>\n",
       "      <th>month_May</th>\n",
       "      <th>month_November</th>\n",
       "      <th>month_October</th>\n",
       "      <th>month_September</th>\n",
       "    </tr>\n",
       "  </thead>\n",
       "  <tbody>\n",
       "    <tr>\n",
       "      <th>0</th>\n",
       "      <td>3</td>\n",
       "      <td>1</td>\n",
       "      <td>0</td>\n",
       "      <td>0</td>\n",
       "      <td>0</td>\n",
       "      <td>0</td>\n",
       "      <td>0</td>\n",
       "      <td>0</td>\n",
       "      <td>1</td>\n",
       "      <td>0</td>\n",
       "      <td>...</td>\n",
       "      <td>0</td>\n",
       "      <td>0</td>\n",
       "      <td>0</td>\n",
       "      <td>0</td>\n",
       "      <td>0</td>\n",
       "      <td>0</td>\n",
       "      <td>1</td>\n",
       "      <td>0</td>\n",
       "      <td>0</td>\n",
       "      <td>0</td>\n",
       "    </tr>\n",
       "    <tr>\n",
       "      <th>1</th>\n",
       "      <td>0</td>\n",
       "      <td>0</td>\n",
       "      <td>0</td>\n",
       "      <td>0</td>\n",
       "      <td>1</td>\n",
       "      <td>0</td>\n",
       "      <td>0</td>\n",
       "      <td>0</td>\n",
       "      <td>0</td>\n",
       "      <td>1</td>\n",
       "      <td>...</td>\n",
       "      <td>0</td>\n",
       "      <td>0</td>\n",
       "      <td>0</td>\n",
       "      <td>0</td>\n",
       "      <td>0</td>\n",
       "      <td>0</td>\n",
       "      <td>1</td>\n",
       "      <td>0</td>\n",
       "      <td>0</td>\n",
       "      <td>0</td>\n",
       "    </tr>\n",
       "    <tr>\n",
       "      <th>3</th>\n",
       "      <td>3</td>\n",
       "      <td>1</td>\n",
       "      <td>0</td>\n",
       "      <td>0</td>\n",
       "      <td>0</td>\n",
       "      <td>0</td>\n",
       "      <td>0</td>\n",
       "      <td>0</td>\n",
       "      <td>1</td>\n",
       "      <td>0</td>\n",
       "      <td>...</td>\n",
       "      <td>0</td>\n",
       "      <td>0</td>\n",
       "      <td>0</td>\n",
       "      <td>0</td>\n",
       "      <td>0</td>\n",
       "      <td>0</td>\n",
       "      <td>1</td>\n",
       "      <td>0</td>\n",
       "      <td>0</td>\n",
       "      <td>0</td>\n",
       "    </tr>\n",
       "    <tr>\n",
       "      <th>4</th>\n",
       "      <td>0</td>\n",
       "      <td>0</td>\n",
       "      <td>0</td>\n",
       "      <td>0</td>\n",
       "      <td>1</td>\n",
       "      <td>0</td>\n",
       "      <td>0</td>\n",
       "      <td>0</td>\n",
       "      <td>0</td>\n",
       "      <td>1</td>\n",
       "      <td>...</td>\n",
       "      <td>0</td>\n",
       "      <td>0</td>\n",
       "      <td>0</td>\n",
       "      <td>0</td>\n",
       "      <td>0</td>\n",
       "      <td>0</td>\n",
       "      <td>1</td>\n",
       "      <td>0</td>\n",
       "      <td>0</td>\n",
       "      <td>0</td>\n",
       "    </tr>\n",
       "    <tr>\n",
       "      <th>6</th>\n",
       "      <td>3</td>\n",
       "      <td>1</td>\n",
       "      <td>0</td>\n",
       "      <td>0</td>\n",
       "      <td>0</td>\n",
       "      <td>0</td>\n",
       "      <td>0</td>\n",
       "      <td>0</td>\n",
       "      <td>1</td>\n",
       "      <td>0</td>\n",
       "      <td>...</td>\n",
       "      <td>0</td>\n",
       "      <td>0</td>\n",
       "      <td>0</td>\n",
       "      <td>0</td>\n",
       "      <td>0</td>\n",
       "      <td>0</td>\n",
       "      <td>1</td>\n",
       "      <td>0</td>\n",
       "      <td>0</td>\n",
       "      <td>0</td>\n",
       "    </tr>\n",
       "  </tbody>\n",
       "</table>\n",
       "<p>5 rows × 24 columns</p>\n",
       "</div>"
      ],
      "text/plain": [
       "   day  Market Place_Bahir Dar kebele 04  Market Place_Bonga  \\\n",
       "0    3                                 1                   0   \n",
       "1    0                                 0                   0   \n",
       "3    3                                 1                   0   \n",
       "4    0                                 0                   0   \n",
       "6    3                                 1                   0   \n",
       "\n",
       "   Market Place_Dilla  Market Place_Hawassa   Market Place_Shire-Endaselassie  \\\n",
       "0                   0                      0                                0   \n",
       "1                   0                      1                                0   \n",
       "3                   0                      0                                0   \n",
       "4                   0                      1                                0   \n",
       "6                   0                      0                                0   \n",
       "\n",
       "   Market Place_Sululta  Market Place_Woldia Gebeya  Volume_Sufficient  \\\n",
       "0                     0                           0                  1   \n",
       "1                     0                           0                  0   \n",
       "3                     0                           0                  1   \n",
       "4                     0                           0                  0   \n",
       "6                     0                           0                  1   \n",
       "\n",
       "   Volume_Under  ...  month_December  month_February  month_January  \\\n",
       "0             0  ...               0               0              0   \n",
       "1             1  ...               0               0              0   \n",
       "3             0  ...               0               0              0   \n",
       "4             1  ...               0               0              0   \n",
       "6             0  ...               0               0              0   \n",
       "\n",
       "   month_July  month_June  month_March  month_May  month_November  \\\n",
       "0           0           0            0          1               0   \n",
       "1           0           0            0          1               0   \n",
       "3           0           0            0          1               0   \n",
       "4           0           0            0          1               0   \n",
       "6           0           0            0          1               0   \n",
       "\n",
       "   month_October  month_September  \n",
       "0              0                0  \n",
       "1              0                0  \n",
       "3              0                0  \n",
       "4              0                0  \n",
       "6              0                0  \n",
       "\n",
       "[5 rows x 24 columns]"
      ]
     },
     "execution_count": 156,
     "metadata": {},
     "output_type": "execute_result"
    }
   ],
   "source": [
    "features.head()"
   ]
  },
  {
   "cell_type": "code",
   "execution_count": null,
   "id": "0ba61603",
   "metadata": {},
   "outputs": [],
   "source": [
    "labels = data.loc[:,'Retail Max']"
   ]
  },
  {
   "cell_type": "code",
   "execution_count": null,
   "id": "9e4147e8",
   "metadata": {
    "scrolled": true
   },
   "outputs": [
    {
     "data": {
      "text/plain": [
       "0    2650\n",
       "1    3000\n",
       "3    2700\n",
       "4    3000\n",
       "6    2700\n",
       "Name: Retail Max, dtype: int64"
      ]
     },
     "execution_count": 158,
     "metadata": {},
     "output_type": "execute_result"
    }
   ],
   "source": [
    "labels.head()"
   ]
  },
  {
   "cell_type": "code",
   "execution_count": null,
   "id": "107d2654",
   "metadata": {
    "scrolled": false
   },
   "outputs": [
    {
     "data": {
      "application/javascript": "\n        if (window._pyforest_update_imports_cell) { window._pyforest_update_imports_cell('import matplotlib.pyplot as plt'); }\n    ",
      "text/plain": [
       "<IPython.core.display.Javascript object>"
      ]
     },
     "metadata": {},
     "output_type": "display_data"
    },
    {
     "data": {
      "application/javascript": "\n        if (window._pyforest_update_imports_cell) { window._pyforest_update_imports_cell('import matplotlib.pyplot as plt'); }\n    ",
      "text/plain": [
       "<IPython.core.display.Javascript object>"
      ]
     },
     "metadata": {},
     "output_type": "display_data"
    },
    {
     "data": {
      "image/png": "[encoded data removed]",
      "text/plain": [
       "<Figure size 1296x1296 with 2 Axes>"
      ]
     },
     "metadata": {
      "needs_background": "light"
     },
     "output_type": "display_data"
    }
   ],
   "source": [
    "#\n",
    "plt.figure(figsize = (18,18))\n",
    "sns.heatmap(data.corr(), annot = True, cmap = \"RdYlGn\")\n",
    "\n",
    "plt.show()"
   ]
  },
  {
   "cell_type": "code",
   "execution_count": null,
   "id": "976d240e",
   "metadata": {},
   "outputs": [],
   "source": [
    "from sklearn.model_selection import train_test_split"
   ]
  },
  {
   "cell_type": "code",
   "execution_count": null,
   "id": "4f0fd91c",
   "metadata": {},
   "outputs": [],
   "source": [
    "Xtrain, Xtest, Ytrain, Ytest = train_test_split(features, labels, test_size=0.2, random_state=2)"
   ]
  },
  {
   "cell_type": "code",
   "execution_count": null,
   "id": "f7225000",
   "metadata": {},
   "outputs": [
    {
     "data": {
      "text/plain": [
       "747"
      ]
     },
     "execution_count": 162,
     "metadata": {},
     "output_type": "execute_result"
    }
   ],
   "source": [
    "len(Xtrain)# 80 percent of 934 data == 747 and 20 percent 187"
   ]
  },
  {
   "cell_type": "code",
   "execution_count": null,
   "id": "55f3f881",
   "metadata": {},
   "outputs": [
    {
     "data": {
      "text/plain": [
       "747"
      ]
     },
     "execution_count": 163,
     "metadata": {},
     "output_type": "execute_result"
    }
   ],
   "source": [
    "len(Ytrain)"
   ]
  },
  {
   "cell_type": "code",
   "execution_count": null,
   "id": "2c6bf68e",
   "metadata": {},
   "outputs": [
    {
     "data": {
      "text/plain": [
       "187"
      ]
     },
     "execution_count": 164,
     "metadata": {},
     "output_type": "execute_result"
    }
   ],
   "source": [
    "len(Xtest)"
   ]
  },
  {
   "cell_type": "code",
   "execution_count": null,
   "id": "6ab0030d",
   "metadata": {},
   "outputs": [
    {
     "data": {
      "text/plain": [
       "187"
      ]
     },
     "execution_count": 165,
     "metadata": {},
     "output_type": "execute_result"
    }
   ],
   "source": [
    "len(Ytest)"
   ]
  },
  {
   "cell_type": "code",
   "execution_count": null,
   "id": "77afeaae",
   "metadata": {},
   "outputs": [],
   "source": [
    "from sklearn.linear_model import LinearRegression"
   ]
  },
  {
   "cell_type": "code",
   "execution_count": null,
   "id": "6cc91c1f",
   "metadata": {},
   "outputs": [],
   "source": [
    "model = LinearRegression()"
   ]
  },
  {
   "cell_type": "code",
   "execution_count": null,
   "id": "a8b25e09",
   "metadata": {},
   "outputs": [
    {
     "data": {
      "text/plain": [
       "LinearRegression()"
      ]
     },
     "execution_count": 168,
     "metadata": {},
     "output_type": "execute_result"
    }
   ],
   "source": [
    "model.fit(Xtrain, Ytrain)"
   ]
  },
  {
   "cell_type": "code",
   "execution_count": null,
   "id": "cc2e5e20",
   "metadata": {},
   "outputs": [],
   "source": []
  },
  {
   "cell_type": "code",
   "execution_count": null,
   "id": "6c0461bf",
   "metadata": {},
   "outputs": [
    {
     "data": {
      "text/plain": [
       "LinearRegression()"
      ]
     },
     "execution_count": 169,
     "metadata": {},
     "output_type": "execute_result"
    }
   ],
   "source": [
    "model.fit(Xtrain,Ytrain)"
   ]
  },
  {
   "cell_type": "code",
   "execution_count": null,
   "id": "d2ad7504",
   "metadata": {},
   "outputs": [
    {
     "data": {
      "text/plain": [
       "array([4376.37348263, 5718.92941897, 4381.08623255, 4545.22866007,\n",
       "       4369.90643632, 4248.40938664, 4381.08623255, 4298.64607799,\n",
       "       4568.57263658, 4535.29668067, 4352.91451806, 4553.93763436,\n",
       "       4553.93763436, 4527.64396485, 4193.32198442, 4057.39450688,\n",
       "       4097.0092635 , 4457.39085344, 4362.996124  , 4292.17903168,\n",
       "       4292.17903168, 4569.99086158, 4376.25849458, 4352.91451806,\n",
       "       4551.05649725, 4381.08623255, 4446.50117471, 4193.32198442,\n",
       "       3964.19445665, 4480.37086777, 3796.73059209, 4657.80123803,\n",
       "       3979.7820903 , 4551.05649725, 4170.681982  , 4333.09305055,\n",
       "       4563.52381528, 4279.71171365, 4357.43911829, 4203.40709276,\n",
       "       4484.49317369, 4474.75187636, 4430.64192271, 4373.32182182,\n",
       "       4469.85817147, 4717.84595831, 4248.40938664, 4170.681982  ,\n",
       "       4530.59365785, 4306.00116158, 4369.90643632, 4457.39085344,\n",
       "       4251.82477213, 4442.02676559, 4613.03802894, 4057.39450688,\n",
       "       4484.49317369, 4591.54221963, 4193.32198442, 4248.40938664,\n",
       "       4624.1803145 , 4545.22866007, 4624.25930166, 3998.05918833,\n",
       "       4129.73437427, 4484.49317369, 3796.73059209, 4057.39450688,\n",
       "       4248.40938664, 4453.98589922, 4480.37086777, 4624.1803145 ,\n",
       "       4524.22857936, 4568.57263658, 4624.1803145 , 4551.05649725,\n",
       "       4638.81531672, 4376.37348263, 4034.05053037, 4446.50117471,\n",
       "       4474.75187636, 4624.25930166, 4576.90721742, 4657.80123803,\n",
       "       4576.90721742, 4347.05116845, 4369.90643632, 4034.05053037,\n",
       "       4591.54221963, 4446.50117471, 4360.85450379, 4381.08623255,\n",
       "       5718.92941897, 4469.85817147, 4563.52381528, 4045.33724679,\n",
       "       4545.22866007, 4376.25849458, 4569.99086158, 4624.25930166,\n",
       "       4293.27371957, 4196.73736992, 4376.37348263, 4395.72123476,\n",
       "       4379.78886813, 4251.82477213, 4524.22857936, 4376.25849458,\n",
       "       4369.90643632, 4524.22857936, 3798.82281797, 4420.72388694,\n",
       "       4347.05116845, 4196.73736992, 4369.90643632, 4474.75187636,\n",
       "       4399.22807763, 4624.1803145 , 4196.73736992, 4487.41519358,\n",
       "       4386.93936338, 4484.49317369, 4624.1803145 , 4624.25930166,\n",
       "       4453.98589922, 4638.81531672, 4670.57286122, 4551.05649725,\n",
       "       4430.64192271, 4501.86667708, 3796.73059209, 4480.37086777,\n",
       "       4657.80123803, 4476.95548227, 4395.72123476, 4569.99086158,\n",
       "       4373.32182182, 4657.80123803, 4657.80123803, 4472.02585566,\n",
       "       4591.54221963, 4469.85817147, 4203.40709276, 4284.5498829 ,\n",
       "       4670.57286122, 4430.64192271, 4170.681982  , 4381.08623255,\n",
       "       4561.26488838, 4453.98589922, 4490.96021999, 4357.43911829,\n",
       "       4576.90721742, 4379.78886813, 4307.90872178, 4672.43624024,\n",
       "       4545.22866007, 4279.71171365, 4399.22807763, 4476.32521778,\n",
       "       4527.64396485, 4480.12209824, 4446.50117471, 4395.72123476,\n",
       "       4472.02585566, 4279.24179957, 4284.5498829 , 3964.19445665,\n",
       "       4453.98589922, 4373.32182182, 4446.50117471, 4476.32521778,\n",
       "       4307.90872178, 4553.93763436, 4557.84950288, 4115.59457978,\n",
       "       4498.45129158, 3796.73059209, 4430.64192271, 4019.28185886,\n",
       "       4434.0573082 , 4196.73736992, 4379.78886813, 4498.45129158,\n",
       "       4568.57263658, 4307.90872178, 4591.54221963])"
      ]
     },
     "execution_count": 170,
     "metadata": {},
     "output_type": "execute_result"
    }
   ],
   "source": [
    "model.predict(Xtest)"
   ]
  },
  {
   "cell_type": "code",
   "execution_count": null,
   "id": "c634b957",
   "metadata": {},
   "outputs": [
    {
     "data": {
      "text/plain": [
       "318    3900\n",
       "988    5600\n",
       "698    4800\n",
       "875    5300\n",
       "684    4700\n",
       "       ... \n",
       "849    5106\n",
       "574    4800\n",
       "637    4800\n",
       "777    4700\n",
       "535    4500\n",
       "Name: Retail Max, Length: 187, dtype: int64"
      ]
     },
     "execution_count": 171,
     "metadata": {},
     "output_type": "execute_result"
    }
   ],
   "source": [
    "Ytest"
   ]
  },
  {
   "cell_type": "code",
   "execution_count": null,
   "id": "34d4e4b6",
   "metadata": {},
   "outputs": [
    {
     "data": {
      "text/plain": [
       "0.04119122826583288"
      ]
     },
     "execution_count": 172,
     "metadata": {},
     "output_type": "execute_result"
    }
   ],
   "source": [
    "model.score(Xtest,Ytest)"
   ]
  },
  {
   "cell_type": "code",
   "execution_count": null,
   "id": "2ab6f25b",
   "metadata": {},
   "outputs": [],
   "source": []
  }
 ],
 "metadata": {
  "kernelspec": {
   "display_name": "Python 3 (ipykernel)",
   "language": "python",
   "name": "python3"
  },
  "language_info": {
   "codemirror_mode": {
    "name": "ipython",
    "version": 3
   },
   "file_extension": ".py",
   "mimetype": "text/x-python",
   "name": "python",
   "nbconvert_exporter": "python",
   "pygments_lexer": "ipython3",
   "version": "3.10.7"
  }
 },
 "nbformat": 4,
 "nbformat_minor": 5
}
