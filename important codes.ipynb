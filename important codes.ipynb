{
 "cells": [
  {
   "cell_type": "code",
   "execution_count": 1,
   "id": "df7fc9c6",
   "metadata": {},
   "outputs": [],
   "source": [
    "import pyforest # imports all libraries in one"
   ]
  },
  {
   "cell_type": "code",
   "execution_count": 1,
   "id": "8defaffc",
   "metadata": {},
   "outputs": [
    {
     "name": "stdout",
     "output_type": "stream",
     "text": [
      "\n"
     ]
    },
    {
     "data": {
      "text/plain": [
       "[]"
      ]
     },
     "execution_count": 1,
     "metadata": {},
     "output_type": "execute_result"
    }
   ],
   "source": [
    "active_imports()#showing which library is used yet"
   ]
  },
  {
   "cell_type": "code",
   "execution_count": 1,
   "id": "c1d6df16",
   "metadata": {},
   "outputs": [],
   "source": []
  },
  {
   "cell_type": "code",
   "execution_count": 2,
   "id": "c1786207",
   "metadata": {},
   "outputs": [
    {
     "name": "stdout",
     "output_type": "stream",
     "text": [
      "1.0.2\n"
     ]
    }
   ],
   "source": [
    "# check scikit-learn version\n",
    "import sklearn\n",
    "print(sklearn.__version__)"
   ]
  },
  {
   "cell_type": "code",
   "execution_count": 3,
   "id": "933ab74a",
   "metadata": {},
   "outputs": [
    {
     "data": {
      "application/javascript": [
       "\n",
       "        if (window._pyforest_update_imports_cell) { window._pyforest_update_imports_cell('import pandas as pd'); }\n",
       "    "
      ],
      "text/plain": [
       "<IPython.core.display.Javascript object>"
      ]
     },
     "metadata": {},
     "output_type": "display_data"
    }
   ],
   "source": [
    "df = pd.read_csv(\"datasets.csv\")\n"
   ]
  },
  {
   "cell_type": "code",
   "execution_count": 4,
   "id": "8638f8bd",
   "metadata": {},
   "outputs": [
    {
     "name": "stderr",
     "output_type": "stream",
     "text": [
      "ERROR: Exception:\n",
      "Traceback (most recent call last):\n",
      "  File \"C:\\Users\\user\\anaconda3\\lib\\site-packages\\pip\\_internal\\cli\\base_command.py\", line 173, in _main\n",
      "    status = self.run(options, args)\n",
      "  File \"C:\\Users\\user\\anaconda3\\lib\\site-packages\\pip\\_internal\\cli\\req_command.py\", line 203, in wrapper\n",
      "    return func(self, options, args)\n",
      "  File \"C:\\Users\\user\\anaconda3\\lib\\site-packages\\pip\\_internal\\commands\\install.py\", line 315, in run\n",
      "    requirement_set = resolver.resolve(\n",
      "  File \"C:\\Users\\user\\anaconda3\\lib\\site-packages\\pip\\_internal\\resolution\\resolvelib\\resolver.py\", line 94, in resolve\n",
      "    result = self._result = resolver.resolve(\n",
      "  File \"C:\\Users\\user\\anaconda3\\lib\\site-packages\\pip\\_vendor\\resolvelib\\resolvers.py\", line 472, in resolve\n",
      "    state = resolution.resolve(requirements, max_rounds=max_rounds)\n",
      "  File \"C:\\Users\\user\\anaconda3\\lib\\site-packages\\pip\\_vendor\\resolvelib\\resolvers.py\", line 341, in resolve\n",
      "    self._add_to_criteria(self.state.criteria, r, parent=None)\n",
      "  File \"C:\\Users\\user\\anaconda3\\lib\\site-packages\\pip\\_vendor\\resolvelib\\resolvers.py\", line 172, in _add_to_criteria\n",
      "    if not criterion.candidates:\n",
      "  File \"C:\\Users\\user\\anaconda3\\lib\\site-packages\\pip\\_vendor\\resolvelib\\structs.py\", line 151, in __bool__\n",
      "    return bool(self._sequence)\n",
      "  File \"C:\\Users\\user\\anaconda3\\lib\\site-packages\\pip\\_internal\\resolution\\resolvelib\\found_candidates.py\", line 140, in __bool__\n",
      "    return any(self)\n",
      "  File \"C:\\Users\\user\\anaconda3\\lib\\site-packages\\pip\\_internal\\resolution\\resolvelib\\found_candidates.py\", line 128, in <genexpr>\n",
      "    return (c for c in iterator if id(c) not in self._incompatible_ids)\n",
      "  File \"C:\\Users\\user\\anaconda3\\lib\\site-packages\\pip\\_internal\\resolution\\resolvelib\\found_candidates.py\", line 29, in _iter_built\n",
      "    for version, func in infos:\n",
      "  File \"C:\\Users\\user\\anaconda3\\lib\\site-packages\\pip\\_internal\\resolution\\resolvelib\\factory.py\", line 272, in iter_index_candidate_infos\n",
      "    result = self._finder.find_best_candidate(\n",
      "  File \"C:\\Users\\user\\anaconda3\\lib\\site-packages\\pip\\_internal\\index\\package_finder.py\", line 851, in find_best_candidate\n",
      "    candidates = self.find_all_candidates(project_name)\n",
      "  File \"C:\\Users\\user\\anaconda3\\lib\\site-packages\\pip\\_internal\\index\\package_finder.py\", line 798, in find_all_candidates\n",
      "    page_candidates = list(page_candidates_it)\n",
      "  File \"C:\\Users\\user\\anaconda3\\lib\\site-packages\\pip\\_internal\\index\\sources.py\", line 134, in page_candidates\n",
      "    yield from self._candidates_from_page(self._link)\n",
      "  File \"C:\\Users\\user\\anaconda3\\lib\\site-packages\\pip\\_internal\\index\\package_finder.py\", line 758, in process_project_url\n",
      "    html_page = self._link_collector.fetch_page(project_url)\n",
      "  File \"C:\\Users\\user\\anaconda3\\lib\\site-packages\\pip\\_internal\\index\\collector.py\", line 490, in fetch_page\n",
      "    return _get_html_page(location, session=self.session)\n",
      "  File \"C:\\Users\\user\\anaconda3\\lib\\site-packages\\pip\\_internal\\index\\collector.py\", line 400, in _get_html_page\n",
      "    resp = _get_html_response(url, session=session)\n",
      "  File \"C:\\Users\\user\\anaconda3\\lib\\site-packages\\pip\\_internal\\index\\collector.py\", line 115, in _get_html_response\n",
      "    resp = session.get(\n",
      "  File \"C:\\Users\\user\\anaconda3\\lib\\site-packages\\pip\\_vendor\\requests\\sessions.py\", line 555, in get\n",
      "    return self.request('GET', url, **kwargs)\n",
      "  File \"C:\\Users\\user\\anaconda3\\lib\\site-packages\\pip\\_internal\\network\\session.py\", line 454, in request\n",
      "    return super().request(method, url, *args, **kwargs)\n",
      "  File \"C:\\Users\\user\\anaconda3\\lib\\site-packages\\pip\\_vendor\\requests\\sessions.py\", line 542, in request\n",
      "    resp = self.send(prep, **send_kwargs)\n",
      "  File \"C:\\Users\\user\\anaconda3\\lib\\site-packages\\pip\\_vendor\\requests\\sessions.py\", line 655, in send\n",
      "    r = adapter.send(request, **kwargs)\n",
      "  File \"C:\\Users\\user\\anaconda3\\lib\\site-packages\\pip\\_vendor\\cachecontrol\\adapter.py\", line 53, in send\n",
      "    resp = super(CacheControlAdapter, self).send(request, **kw)\n",
      "  File \"C:\\Users\\user\\anaconda3\\lib\\site-packages\\pip\\_vendor\\requests\\adapters.py\", line 439, in send\n",
      "    resp = conn.urlopen(\n",
      "  File \"C:\\Users\\user\\anaconda3\\lib\\site-packages\\pip\\_vendor\\urllib3\\connectionpool.py\", line 696, in urlopen\n",
      "    self._prepare_proxy(conn)\n",
      "  File \"C:\\Users\\user\\anaconda3\\lib\\site-packages\\pip\\_vendor\\urllib3\\connectionpool.py\", line 964, in _prepare_proxy\n",
      "    conn.connect()\n",
      "  File \"C:\\Users\\user\\anaconda3\\lib\\site-packages\\pip\\_vendor\\urllib3\\connection.py\", line 359, in connect\n",
      "    conn = self._connect_tls_proxy(hostname, conn)\n",
      "  File \"C:\\Users\\user\\anaconda3\\lib\\site-packages\\pip\\_vendor\\urllib3\\connection.py\", line 500, in _connect_tls_proxy\n",
      "    return ssl_wrap_socket(\n",
      "  File \"C:\\Users\\user\\anaconda3\\lib\\site-packages\\pip\\_vendor\\urllib3\\util\\ssl_.py\", line 453, in ssl_wrap_socket\n",
      "    ssl_sock = _ssl_wrap_socket_impl(sock, context, tls_in_tls)\n",
      "  File \"C:\\Users\\user\\anaconda3\\lib\\site-packages\\pip\\_vendor\\urllib3\\util\\ssl_.py\", line 495, in _ssl_wrap_socket_impl\n",
      "    return ssl_context.wrap_socket(sock)\n",
      "  File \"C:\\Users\\user\\anaconda3\\lib\\ssl.py\", line 500, in wrap_socket\n",
      "    return self.sslsocket_class._create(\n",
      "  File \"C:\\Users\\user\\anaconda3\\lib\\ssl.py\", line 997, in _create\n",
      "    raise ValueError(\"check_hostname requires server_hostname\")\n",
      "ValueError: check_hostname requires server_hostname\n"
     ]
    }
   ],
   "source": [
    "!pip install jupyterthemes"
   ]
  },
  {
   "cell_type": "code",
   "execution_count": 4,
   "id": "e162bd05",
   "metadata": {},
   "outputs": [
    {
     "data": {
      "text/html": [
       "<div>\n",
       "<style scoped>\n",
       "    .dataframe tbody tr th:only-of-type {\n",
       "        vertical-align: middle;\n",
       "    }\n",
       "\n",
       "    .dataframe tbody tr th {\n",
       "        vertical-align: top;\n",
       "    }\n",
       "\n",
       "    .dataframe thead th {\n",
       "        text-align: right;\n",
       "    }\n",
       "</style>\n",
       "<table border=\"1\" class=\"dataframe\">\n",
       "  <thead>\n",
       "    <tr style=\"text-align: right;\">\n",
       "      <th></th>\n",
       "      <th>market place</th>\n",
       "      <th>Crop Variety</th>\n",
       "      <th>producer min</th>\n",
       "      <th>producer max</th>\n",
       "      <th>many min</th>\n",
       "      <th>many max</th>\n",
       "      <th>single min</th>\n",
       "      <th>single max</th>\n",
       "      <th>amount</th>\n",
       "      <th>collection date</th>\n",
       "    </tr>\n",
       "  </thead>\n",
       "  <tbody>\n",
       "    <tr>\n",
       "      <th>0</th>\n",
       "      <td>Adet Gebeya</td>\n",
       "      <td>White Teff (Quintal)</td>\n",
       "      <td>2050.0</td>\n",
       "      <td>2200.0</td>\n",
       "      <td>0</td>\n",
       "      <td>0</td>\n",
       "      <td>2100.0</td>\n",
       "      <td>2250.0</td>\n",
       "      <td>Sufficient</td>\n",
       "      <td>4/1/2019</td>\n",
       "    </tr>\n",
       "    <tr>\n",
       "      <th>1</th>\n",
       "      <td>Adet Gebeya</td>\n",
       "      <td>Mixed Teff (Quintal)</td>\n",
       "      <td>1850.0</td>\n",
       "      <td>2000.0</td>\n",
       "      <td>0</td>\n",
       "      <td>0</td>\n",
       "      <td>1900.0</td>\n",
       "      <td>2050.0</td>\n",
       "      <td>Sufficient</td>\n",
       "      <td>4/1/2019</td>\n",
       "    </tr>\n",
       "    <tr>\n",
       "      <th>2</th>\n",
       "      <td>Adet Gebeya</td>\n",
       "      <td>Red Teff (Quintal)</td>\n",
       "      <td>1700.0</td>\n",
       "      <td>1800.0</td>\n",
       "      <td>0</td>\n",
       "      <td>0</td>\n",
       "      <td>1800.0</td>\n",
       "      <td>1850.0</td>\n",
       "      <td>Under</td>\n",
       "      <td>4/1/2019</td>\n",
       "    </tr>\n",
       "    <tr>\n",
       "      <th>3</th>\n",
       "      <td>Bichena Gebeya</td>\n",
       "      <td>Red Teff (Quintal)</td>\n",
       "      <td>1830.0</td>\n",
       "      <td>1850.0</td>\n",
       "      <td>0</td>\n",
       "      <td>0</td>\n",
       "      <td>1890.0</td>\n",
       "      <td>1960.0</td>\n",
       "      <td>Sufficient</td>\n",
       "      <td>4/2/2019</td>\n",
       "    </tr>\n",
       "    <tr>\n",
       "      <th>4</th>\n",
       "      <td>Bichena Gebeya</td>\n",
       "      <td>White Teff (Quintal)</td>\n",
       "      <td>2200.0</td>\n",
       "      <td>2400.0</td>\n",
       "      <td>0</td>\n",
       "      <td>0</td>\n",
       "      <td>2250.0</td>\n",
       "      <td>2520.0</td>\n",
       "      <td>Sufficient</td>\n",
       "      <td>4/2/2019</td>\n",
       "    </tr>\n",
       "    <tr>\n",
       "      <th>5</th>\n",
       "      <td>Bichena Gebeya</td>\n",
       "      <td>Mixed Teff (Quintal)</td>\n",
       "      <td>2000.0</td>\n",
       "      <td>2100.0</td>\n",
       "      <td>0</td>\n",
       "      <td>0</td>\n",
       "      <td>2150.0</td>\n",
       "      <td>2310.0</td>\n",
       "      <td>Sufficient</td>\n",
       "      <td>4/2/2019</td>\n",
       "    </tr>\n",
       "    <tr>\n",
       "      <th>6</th>\n",
       "      <td>Kokit  Metema Gebeya</td>\n",
       "      <td>White Teff (Quintal)</td>\n",
       "      <td>0.0</td>\n",
       "      <td>0.0</td>\n",
       "      <td>2250</td>\n",
       "      <td>2250</td>\n",
       "      <td>2300.0</td>\n",
       "      <td>2300.0</td>\n",
       "      <td>Sufficient</td>\n",
       "      <td>4/2/2019</td>\n",
       "    </tr>\n",
       "    <tr>\n",
       "      <th>7</th>\n",
       "      <td>Kokit  Metema Gebeya</td>\n",
       "      <td>Red Teff (Quintal)</td>\n",
       "      <td>1800.0</td>\n",
       "      <td>1900.0</td>\n",
       "      <td>0</td>\n",
       "      <td>0</td>\n",
       "      <td>0.0</td>\n",
       "      <td>0.0</td>\n",
       "      <td>Under</td>\n",
       "      <td>4/2/2019</td>\n",
       "    </tr>\n",
       "    <tr>\n",
       "      <th>8</th>\n",
       "      <td>Debere Elias Gebeya</td>\n",
       "      <td>White Teff (Quintal)</td>\n",
       "      <td>2150.0</td>\n",
       "      <td>2200.0</td>\n",
       "      <td>0</td>\n",
       "      <td>0</td>\n",
       "      <td>2230.0</td>\n",
       "      <td>2250.0</td>\n",
       "      <td>Under</td>\n",
       "      <td>4/2/2019</td>\n",
       "    </tr>\n",
       "    <tr>\n",
       "      <th>9</th>\n",
       "      <td>Kokit  Metema Gebeya</td>\n",
       "      <td>Mixed Teff (Quintal)</td>\n",
       "      <td>0.0</td>\n",
       "      <td>0.0</td>\n",
       "      <td>1900</td>\n",
       "      <td>2000</td>\n",
       "      <td>2050.0</td>\n",
       "      <td>2100.0</td>\n",
       "      <td>Sufficient</td>\n",
       "      <td>4/2/2019</td>\n",
       "    </tr>\n",
       "  </tbody>\n",
       "</table>\n",
       "</div>"
      ],
      "text/plain": [
       "          market place           Crop Variety  producer min  producer max  \\\n",
       "0          Adet Gebeya   White Teff (Quintal)        2050.0        2200.0   \n",
       "1          Adet Gebeya   Mixed Teff (Quintal)        1850.0        2000.0   \n",
       "2          Adet Gebeya     Red Teff (Quintal)        1700.0        1800.0   \n",
       "3        Bichena Gebeya    Red Teff (Quintal)        1830.0        1850.0   \n",
       "4        Bichena Gebeya  White Teff (Quintal)        2200.0        2400.0   \n",
       "5        Bichena Gebeya  Mixed Teff (Quintal)        2000.0        2100.0   \n",
       "6  Kokit  Metema Gebeya  White Teff (Quintal)           0.0           0.0   \n",
       "7  Kokit  Metema Gebeya    Red Teff (Quintal)        1800.0        1900.0   \n",
       "8   Debere Elias Gebeya  White Teff (Quintal)        2150.0        2200.0   \n",
       "9  Kokit  Metema Gebeya  Mixed Teff (Quintal)           0.0           0.0   \n",
       "\n",
       "   many min  many max  single min  single max      amount collection date  \n",
       "0         0         0      2100.0      2250.0  Sufficient        4/1/2019  \n",
       "1         0         0      1900.0      2050.0  Sufficient        4/1/2019  \n",
       "2         0         0      1800.0      1850.0       Under        4/1/2019  \n",
       "3         0         0      1890.0      1960.0  Sufficient        4/2/2019  \n",
       "4         0         0      2250.0      2520.0  Sufficient        4/2/2019  \n",
       "5         0         0      2150.0      2310.0  Sufficient        4/2/2019  \n",
       "6      2250      2250      2300.0      2300.0  Sufficient        4/2/2019  \n",
       "7         0         0         0.0         0.0       Under        4/2/2019  \n",
       "8         0         0      2230.0      2250.0       Under        4/2/2019  \n",
       "9      1900      2000      2050.0      2100.0  Sufficient        4/2/2019  "
      ]
     },
     "execution_count": 4,
     "metadata": {},
     "output_type": "execute_result"
    }
   ],
   "source": [
    "df.head(10)"
   ]
  },
  {
   "cell_type": "code",
   "execution_count": 7,
   "id": "88043d14",
   "metadata": {},
   "outputs": [
    {
     "name": "stdout",
     "output_type": "stream",
     "text": [
      "producer min    2604.101659\n",
      "producer max    2668.220131\n",
      "many min        1429.369489\n",
      "many max        1464.600393\n",
      "single min      3702.009633\n",
      "single max      3807.318447\n",
      "dtype: float64\n"
     ]
    },
    {
     "name": "stderr",
     "output_type": "stream",
     "text": [
      "C:\\Users\\user\\AppData\\Local\\Temp\\ipykernel_19692\\2807316344.py:1: FutureWarning: Dropping of nuisance columns in DataFrame reductions (with 'numeric_only=None') is deprecated; in a future version this will raise TypeError.  Select only valid columns before calling the reduction.\n",
      "  print(df.mean())\n"
     ]
    }
   ],
   "source": [
    "print(df.mean())"
   ]
  },
  {
   "cell_type": "code",
   "execution_count": null,
   "id": "50239175",
   "metadata": {},
   "outputs": [],
   "source": []
  },
  {
   "cell_type": "code",
   "execution_count": 6,
   "id": "0b8a069f",
   "metadata": {},
   "outputs": [],
   "source": [
    "import sklearn"
   ]
  },
  {
   "cell_type": "code",
   "execution_count": 7,
   "id": "4600c1c9",
   "metadata": {},
   "outputs": [
    {
     "name": "stdout",
     "output_type": "stream",
     "text": [
      "1.0.2\n"
     ]
    }
   ],
   "source": [
    "print(sklearn.__version__)"
   ]
  },
  {
   "cell_type": "code",
   "execution_count": 9,
   "id": "91b8eb5d",
   "metadata": {},
   "outputs": [
    {
     "name": "stderr",
     "output_type": "stream",
     "text": [
      "C:\\Users\\user\\AppData\\Local\\Temp\\ipykernel_14424\\3698961737.py:1: FutureWarning: Dropping of nuisance columns in DataFrame reductions (with 'numeric_only=None') is deprecated; in a future version this will raise TypeError.  Select only valid columns before calling the reduction.\n",
      "  df.mean()\n"
     ]
    },
    {
     "data": {
      "text/plain": [
       "producer min    2604.101659\n",
       "producer max    2668.220131\n",
       "many min        1429.369489\n",
       "many max        1464.600393\n",
       "single min      3702.009633\n",
       "single max      3807.318447\n",
       "dtype: float64"
      ]
     },
     "execution_count": 9,
     "metadata": {},
     "output_type": "execute_result"
    }
   ],
   "source": [
    "df.mean()# mean value of the whole dataframe "
   ]
  },
  {
   "cell_type": "code",
   "execution_count": null,
   "id": "3f05513e",
   "metadata": {},
   "outputs": [],
   "source": [
    "pandas.Series.mean()"
   ]
  },
  {
   "cell_type": "code",
   "execution_count": 14,
   "id": "fc319a73",
   "metadata": {
    "collapsed": true
   },
   "outputs": [
    {
     "ename": "NameError",
     "evalue": "name 'pandas' is not defined",
     "output_type": "error",
     "traceback": [
      "\u001b[1;31m---------------------------------------------------------------------------\u001b[0m",
      "\u001b[1;31mNameError\u001b[0m                                 Traceback (most recent call last)",
      "Input \u001b[1;32mIn [14]\u001b[0m, in \u001b[0;36m<cell line: 1>\u001b[1;34m()\u001b[0m\n\u001b[1;32m----> 1\u001b[0m \u001b[43mpandas\u001b[49m\u001b[38;5;241m.\u001b[39mdf\u001b[38;5;241m.\u001b[39mapply()\n",
      "\u001b[1;31mNameError\u001b[0m: name 'pandas' is not defined"
     ]
    }
   ],
   "source": [
    "pandas.df.apply()"
   ]
  },
  {
   "cell_type": "markdown",
   "id": "642f4bd3",
   "metadata": {},
   "source": [
    "# codes for changing the object columns in to numeric value"
   ]
  },
  {
   "cell_type": "code",
   "execution_count": 8,
   "id": "2172245e",
   "metadata": {
    "collapsed": true
   },
   "outputs": [
    {
     "ename": "NameError",
     "evalue": "name 'data2' is not defined",
     "output_type": "error",
     "traceback": [
      "\u001b[1;31m---------------------------------------------------------------------------\u001b[0m",
      "\u001b[1;31mNameError\u001b[0m                                 Traceback (most recent call last)",
      "Input \u001b[1;32mIn [8]\u001b[0m, in \u001b[0;36m<cell line: 1>\u001b[1;34m()\u001b[0m\n\u001b[1;32m----> 1\u001b[0m dist\u001b[38;5;241m=\u001b[39m(\u001b[43mdata2\u001b[49m[\u001b[38;5;124m'\u001b[39m\u001b[38;5;124mMarket Place\u001b[39m\u001b[38;5;124m'\u001b[39m])\n\u001b[0;32m      2\u001b[0m distset\u001b[38;5;241m=\u001b[39m\u001b[38;5;28mset\u001b[39m(dist)\n\u001b[0;32m      3\u001b[0m dd\u001b[38;5;241m=\u001b[39m\u001b[38;5;28mlist\u001b[39m(distset)\n",
      "\u001b[1;31mNameError\u001b[0m: name 'data2' is not defined"
     ]
    }
   ],
   "source": [
    "dist=(data2['Market Place'])\n",
    "distset=set(dist)\n",
    "dd=list(distset)\n",
    "dictOfWords= {dd[i] : i for i in range(0,len(dd))}\n",
    "data2['Market Place']=data2['Market Place'].map(dictOfWords)"
   ]
  },
  {
   "cell_type": "code",
   "execution_count": null,
   "id": "3d2dbeb5",
   "metadata": {},
   "outputs": [],
   "source": [
    "dist=(data2['Crop Variety'])\n",
    "distset=set(dist)\n",
    "dd=list(distset)\n",
    "dictOfWords= {dd[i] : i for i in range(0,len(dd))}\n",
    "data2['Crop Variety']=data2['Crop Variety'].map(dictOfWords)"
   ]
  },
  {
   "cell_type": "code",
   "execution_count": null,
   "id": "30a48b37",
   "metadata": {},
   "outputs": [],
   "source": [
    "dist=(data2['season_names'])\n",
    "distset=set(dist)\n",
    "dd=list(distset)\n",
    "dictOfWords= {dd[i] : i for i in range(0,len(dd))}\n",
    "data2['season_names']=data2['season_names'].map(dictOfWords)"
   ]
  },
  {
   "cell_type": "code",
   "execution_count": null,
   "id": "c3048733",
   "metadata": {},
   "outputs": [],
   "source": [
    "dist=(data2['month_column'])\n",
    "distset=set(dist)\n",
    "dd=list(distset)\n",
    "dictOfWords= {dd[i] : i for i in range(0,len(dd))}\n",
    "data2['month_column']=data2['month_column'].map(dictOfWords)"
   ]
  },
  {
   "cell_type": "code",
   "execution_count": null,
   "id": "1507e931",
   "metadata": {},
   "outputs": [],
   "source": [
    "dist=(data2['Volume'])\n",
    "distset=set(dist)\n",
    "dd=list(distset)\n",
    "dictOfWords= {dd[i] : i for i in range(0,len(dd))}\n",
    "data2['Volume']=data2['Volume'].map(dictOfWords)"
   ]
  },
  {
   "cell_type": "markdown",
   "id": "8fed6caa",
   "metadata": {},
   "source": [
    "# MultiOutput Regression Models In Python"
   ]
  },
  {
   "cell_type": "code",
   "execution_count": null,
   "id": "28f60773",
   "metadata": {},
   "outputs": [],
   "source": [
    "##https://machinelearningmastery.com/multi-output-regression-models-with-python/\n",
    "from sklearn.datasets import make_regression"
   ]
  },
  {
   "cell_type": "code",
   "execution_count": null,
   "id": "f9027af4",
   "metadata": {},
   "outputs": [],
   "source": [
    "## Create the dataset\n",
    "X,y =make_regression(n_samples=1500,n_informative=5,n_features=10,n_targets=2)"
   ]
  },
  {
   "cell_type": "code",
   "execution_count": null,
   "id": "dc32cdec",
   "metadata": {},
   "outputs": [],
   "source": [
    "X"
   ]
  },
  {
   "cell_type": "code",
   "execution_count": null,
   "id": "1add9f08",
   "metadata": {},
   "outputs": [],
   "source": [
    "y"
   ]
  },
  {
   "cell_type": "markdown",
   "id": "14ee7cf4",
   "metadata": {},
   "source": [
    "# Apply Linear Regression"
   ]
  },
  {
   "cell_type": "code",
   "execution_count": null,
   "id": "52db8e86",
   "metadata": {},
   "outputs": [],
   "source": [
    "from sklearn.linear_model import LinearRegression"
   ]
  },
  {
   "cell_type": "code",
   "execution_count": null,
   "id": "2a358b89",
   "metadata": {},
   "outputs": [],
   "source": [
    "lrregression=LinearRegression()\n",
    "lrregression.fit(X,y)"
   ]
  },
  {
   "cell_type": "code",
   "execution_count": null,
   "id": "01e95b6a",
   "metadata": {},
   "outputs": [],
   "source": [
    "test_data=[[-0.35383149,  0.39382202, -2.03033197,  0.08873402, -0.38576581,\n",
    "        0.0032707 , -0.56476034, -0.67236167,  0.31317233,  1.5208706 ]]"
   ]
  },
  {
   "cell_type": "code",
   "execution_count": null,
   "id": "417960d0",
   "metadata": {},
   "outputs": [],
   "source": [
    "lrregression.predict(test_data)"
   ]
  },
  {
   "cell_type": "markdown",
   "id": "e3bddf96",
   "metadata": {},
   "source": [
    "# Decision Tree Regression"
   ]
  },
  {
   "cell_type": "code",
   "execution_count": null,
   "id": "dcc80a44",
   "metadata": {},
   "outputs": [],
   "source": [
    "from sklearn.tree import DecisionTreeRegressor\n",
    "dtregressor=DecisionTreeRegressor()\n",
    "dtregressor.fit(X,y)"
   ]
  },
  {
   "cell_type": "code",
   "execution_count": null,
   "id": "dca0aada",
   "metadata": {},
   "outputs": [],
   "source": [
    "dtregressor.predict(test_data)"
   ]
  },
  {
   "cell_type": "markdown",
   "id": "04b9d8ab",
   "metadata": {},
   "source": [
    "# Random Forest Regressor"
   ]
  },
  {
   "cell_type": "code",
   "execution_count": null,
   "id": "67b9330a",
   "metadata": {},
   "outputs": [],
   "source": [
    "from sklearn.ensemble import RandomForestRegressor\n",
    "rdregressor=RandomForestRegressor()\n",
    "rdregressor.fit(X,y)"
   ]
  },
  {
   "cell_type": "code",
   "execution_count": null,
   "id": "728886f7",
   "metadata": {},
   "outputs": [],
   "source": [
    "rdregressor.predict(test_data)"
   ]
  },
  {
   "cell_type": "markdown",
   "id": "53ffe1e3",
   "metadata": {},
   "source": [
    "# CrossValidation"
   ]
  },
  {
   "cell_type": "code",
   "execution_count": null,
   "id": "122b3d0c",
   "metadata": {},
   "outputs": [],
   "source": [
    "from sklearn.model_selection import cross_val_score"
   ]
  },
  {
   "cell_type": "code",
   "execution_count": null,
   "id": "bf91f6b5",
   "metadata": {},
   "outputs": [],
   "source": [
    "scores=cross_val_score(rdregressor,X,y,scoring='neg_mean_squared_error',cv=5)"
   ]
  },
  {
   "cell_type": "code",
   "execution_count": null,
   "id": "f190900f",
   "metadata": {},
   "outputs": [],
   "source": [
    "print(scores)"
   ]
  },
  {
   "cell_type": "markdown",
   "id": "eb4bf2ab",
   "metadata": {},
   "source": [
    "# simple splitting technique"
   ]
  },
  {
   "cell_type": "code",
   "execution_count": null,
   "id": "31de329d",
   "metadata": {},
   "outputs": [],
   "source": [
    ">>> import numpy as np\n",
    ">>> from sklearn.linear_model import LinearRegression\n",
    ">>> from sklearn.model_selection import train_test_split"
   ]
  },
  {
   "cell_type": "code",
   "execution_count": null,
   "id": "1b6918f8",
   "metadata": {},
   "outputs": [],
   "source": [
    " x_train, x_test, y_train, y_test = train_test_split(\n",
    "      x, y, test_size=8, random_state=0)"
   ]
  },
  {
   "cell_type": "code",
   "execution_count": null,
   "id": "69255de9",
   "metadata": {},
   "outputs": [],
   "source": [
    ">>> from sklearn.linear_model import LinearRegression\n",
    ">>> model = LinearRegression().fit(x_train, y_train)\n",
    ">>> model.score(x_train, y_train)\n",
    "0.7668160223286261\n",
    ">>> model.score(x_test, y_test)\n",
    "0.6882607142538016\n",
    "\n",
    ">>> from sklearn.ensemble import GradientBoostingRegressor\n",
    ">>> model = GradientBoostingRegressor(random_state=0).fit(x_train, y_train)\n",
    ">>> model.score(x_train, y_train)\n",
    "0.9859065238883613\n",
    ">>> model.score(x_test, y_test)\n",
    "0.8530127436482149\n",
    "\n",
    ">>> from sklearn.ensemble import RandomForestRegressor\n",
    ">>> model = RandomForestRegressor(random_state=0).fit(x_train, y_train)\n",
    ">>> model.score(x_train, y_train)\n",
    "0.9811695664860354\n",
    ">>> model.score(x_test, y_test)\n",
    "0.8325867908704008"
   ]
  },
  {
   "cell_type": "markdown",
   "id": "7ec566a1",
   "metadata": {},
   "source": [
    "# Steps to build model"
   ]
  },
  {
   "cell_type": "code",
   "execution_count": 6,
   "id": "785295c7",
   "metadata": {},
   "outputs": [
    {
     "name": "stdout",
     "output_type": "stream",
     "text": [
      "1.0.2\n"
     ]
    }
   ],
   "source": [
    "# check scikit-learn version\n",
    "import sklearn\n",
    "print(sklearn.__version__)"
   ]
  },
  {
   "cell_type": "code",
   "execution_count": 9,
   "id": "0be9c151",
   "metadata": {},
   "outputs": [
    {
     "name": "stdout",
     "output_type": "stream",
     "text": [
      "(1000, 10) (1000, 2)\n"
     ]
    }
   ],
   "source": [
    "# example of multioutput regression test problem\n",
    "from sklearn.datasets import make_regression\n",
    "# create datasets\n",
    "X, y = make_regression(n_samples=1000, n_features=10, n_informative=5, n_targets=2, random_state=1, noise=0.5)\n",
    "# summarize dataset\n",
    "print(X.shape, y.shape)"
   ]
  },
  {
   "cell_type": "code",
   "execution_count": 10,
   "id": "fa80463b",
   "metadata": {},
   "outputs": [
    {
     "name": "stdout",
     "output_type": "stream",
     "text": [
      "[50.06781717 64.564973  ]\n"
     ]
    }
   ],
   "source": [
    "# linear regression for multioutput regression\n",
    "from sklearn.datasets import make_regression\n",
    "from sklearn.linear_model import LinearRegression\n",
    "# create datasets\n",
    "X, y = make_regression(n_samples=1000, n_features=10, n_informative=5, n_targets=2, random_state=1, noise=0.5)\n",
    "# define model\n",
    "model = LinearRegression()\n",
    "# fit model\n",
    "model.fit(X, y)\n",
    "# make a prediction\n",
    "row = [0.21947749, 0.32948997, 0.81560036, 0.440956, -0.0606303, -0.29257894, -0.2820059, -0.00290545, 0.96402263, 0.04992249]\n",
    "yhat = model.predict([row])\n",
    "# summarize prediction\n",
    "print(yhat[0])"
   ]
  },
  {
   "cell_type": "code",
   "execution_count": 11,
   "id": "f6182a9e",
   "metadata": {},
   "outputs": [
    {
     "name": "stdout",
     "output_type": "stream",
     "text": [
      "[-11.73511093  52.78406297]\n"
     ]
    }
   ],
   "source": [
    "# k-nearest neighbors for multioutput regression\n",
    "from sklearn.datasets import make_regression\n",
    "from sklearn.neighbors import KNeighborsRegressor\n",
    "# create datasets\n",
    "X, y = make_regression(n_samples=1000, n_features=10, n_informative=5, n_targets=2, random_state=1, noise=0.5)\n",
    "# define model\n",
    "model = KNeighborsRegressor()\n",
    "# fit model\n",
    "model.fit(X, y)\n",
    "# make a prediction\n",
    "row = [0.21947749, 0.32948997, 0.81560036, 0.440956, -0.0606303, -0.29257894, -0.2820059, -0.00290545, 0.96402263, 0.04992249]\n",
    "yhat = model.predict([row])\n",
    "# summarize prediction\n",
    "print(yhat[0])"
   ]
  },
  {
   "cell_type": "code",
   "execution_count": 12,
   "id": "97c59528",
   "metadata": {},
   "outputs": [
    {
     "name": "stdout",
     "output_type": "stream",
     "text": [
      "[49.93137149 64.08484989]\n"
     ]
    }
   ],
   "source": [
    "# decision tree for multioutput regression\n",
    "from sklearn.datasets import make_regression\n",
    "from sklearn.tree import DecisionTreeRegressor\n",
    "# create datasets\n",
    "X, y = make_regression(n_samples=1000, n_features=10, n_informative=5, n_targets=2, random_state=1, noise=0.5)\n",
    "# define model\n",
    "model = DecisionTreeRegressor()\n",
    "# fit model\n",
    "model.fit(X, y)\n",
    "# make a prediction\n",
    "row = [0.21947749, 0.32948997, 0.81560036, 0.440956, -0.0606303, -0.29257894, -0.2820059, -0.00290545, 0.96402263, 0.04992249]\n",
    "yhat = model.predict([row])\n",
    "# summarize prediction\n",
    "print(yhat[0])"
   ]
  },
  {
   "cell_type": "markdown",
   "id": "2fdf16d8",
   "metadata": {},
   "source": [
    "# Evaluating them by cross validation Process"
   ]
  },
  {
   "cell_type": "code",
   "execution_count": 13,
   "id": "b73955a3",
   "metadata": {},
   "outputs": [
    {
     "name": "stdout",
     "output_type": "stream",
     "text": [
      "MAE: 52.261 (3.290)\n"
     ]
    }
   ],
   "source": [
    "# evaluate multioutput regression model with k-fold cross-validation\n",
    "from numpy import absolute\n",
    "from numpy import mean\n",
    "from numpy import std\n",
    "from sklearn.datasets import make_regression\n",
    "from sklearn.tree import DecisionTreeRegressor\n",
    "from sklearn.model_selection import cross_val_score\n",
    "from sklearn.model_selection import RepeatedKFold\n",
    "# create datasets\n",
    "X, y = make_regression(n_samples=1000, n_features=10, n_informative=5, n_targets=2, random_state=1, noise=0.5)\n",
    "# define model\n",
    "model = DecisionTreeRegressor()\n",
    "# define the evaluation procedure\n",
    "cv = RepeatedKFold(n_splits=10, n_repeats=3, random_state=1)\n",
    "# evaluate the model and collect the scores\n",
    "n_scores = cross_val_score(model, X, y, scoring='neg_mean_absolute_error', cv=cv, n_jobs=-1)\n",
    "# force the scores to be positive\n",
    "n_scores = absolute(n_scores)\n",
    "# summarize performance\n",
    "print('MAE: %.3f (%.3f)' % (mean(n_scores), std(n_scores)))"
   ]
  },
  {
   "cell_type": "markdown",
   "id": "18138605",
   "metadata": {},
   "source": [
    "# Swapping of columns ( Re-Order)"
   ]
  },
  {
   "cell_type": "code",
   "execution_count": 17,
   "id": "70fb078c",
   "metadata": {},
   "outputs": [],
   "source": [
    "import pandas as pd"
   ]
  },
  {
   "cell_type": "code",
   "execution_count": 18,
   "id": "910e55a2",
   "metadata": {},
   "outputs": [],
   "source": [
    "df = pd.read_csv(\"datasets.csv\")"
   ]
  },
  {
   "cell_type": "code",
   "execution_count": 19,
   "id": "718ba720",
   "metadata": {},
   "outputs": [
    {
     "data": {
      "text/html": [
       "<div>\n",
       "<style scoped>\n",
       "    .dataframe tbody tr th:only-of-type {\n",
       "        vertical-align: middle;\n",
       "    }\n",
       "\n",
       "    .dataframe tbody tr th {\n",
       "        vertical-align: top;\n",
       "    }\n",
       "\n",
       "    .dataframe thead th {\n",
       "        text-align: right;\n",
       "    }\n",
       "</style>\n",
       "<table border=\"1\" class=\"dataframe\">\n",
       "  <thead>\n",
       "    <tr style=\"text-align: right;\">\n",
       "      <th></th>\n",
       "      <th>market place</th>\n",
       "      <th>Crop Variety</th>\n",
       "      <th>producer min</th>\n",
       "      <th>producer max</th>\n",
       "      <th>many min</th>\n",
       "      <th>many max</th>\n",
       "      <th>single min</th>\n",
       "      <th>single max</th>\n",
       "      <th>amount</th>\n",
       "      <th>collection date</th>\n",
       "    </tr>\n",
       "  </thead>\n",
       "  <tbody>\n",
       "    <tr>\n",
       "      <th>0</th>\n",
       "      <td>Adet Gebeya</td>\n",
       "      <td>White Teff (Quintal)</td>\n",
       "      <td>2050.0</td>\n",
       "      <td>2200.0</td>\n",
       "      <td>0</td>\n",
       "      <td>0</td>\n",
       "      <td>2100.0</td>\n",
       "      <td>2250.0</td>\n",
       "      <td>Sufficient</td>\n",
       "      <td>4/1/2019</td>\n",
       "    </tr>\n",
       "    <tr>\n",
       "      <th>1</th>\n",
       "      <td>Adet Gebeya</td>\n",
       "      <td>Mixed Teff (Quintal)</td>\n",
       "      <td>1850.0</td>\n",
       "      <td>2000.0</td>\n",
       "      <td>0</td>\n",
       "      <td>0</td>\n",
       "      <td>1900.0</td>\n",
       "      <td>2050.0</td>\n",
       "      <td>Sufficient</td>\n",
       "      <td>4/1/2019</td>\n",
       "    </tr>\n",
       "    <tr>\n",
       "      <th>2</th>\n",
       "      <td>Adet Gebeya</td>\n",
       "      <td>Red Teff (Quintal)</td>\n",
       "      <td>1700.0</td>\n",
       "      <td>1800.0</td>\n",
       "      <td>0</td>\n",
       "      <td>0</td>\n",
       "      <td>1800.0</td>\n",
       "      <td>1850.0</td>\n",
       "      <td>Under</td>\n",
       "      <td>4/1/2019</td>\n",
       "    </tr>\n",
       "    <tr>\n",
       "      <th>3</th>\n",
       "      <td>Bichena Gebeya</td>\n",
       "      <td>Red Teff (Quintal)</td>\n",
       "      <td>1830.0</td>\n",
       "      <td>1850.0</td>\n",
       "      <td>0</td>\n",
       "      <td>0</td>\n",
       "      <td>1890.0</td>\n",
       "      <td>1960.0</td>\n",
       "      <td>Sufficient</td>\n",
       "      <td>4/2/2019</td>\n",
       "    </tr>\n",
       "    <tr>\n",
       "      <th>4</th>\n",
       "      <td>Bichena Gebeya</td>\n",
       "      <td>White Teff (Quintal)</td>\n",
       "      <td>2200.0</td>\n",
       "      <td>2400.0</td>\n",
       "      <td>0</td>\n",
       "      <td>0</td>\n",
       "      <td>2250.0</td>\n",
       "      <td>2520.0</td>\n",
       "      <td>Sufficient</td>\n",
       "      <td>4/2/2019</td>\n",
       "    </tr>\n",
       "  </tbody>\n",
       "</table>\n",
       "</div>"
      ],
      "text/plain": [
       "    market place           Crop Variety  producer min  producer max  many min  \\\n",
       "0    Adet Gebeya   White Teff (Quintal)        2050.0        2200.0         0   \n",
       "1    Adet Gebeya   Mixed Teff (Quintal)        1850.0        2000.0         0   \n",
       "2    Adet Gebeya     Red Teff (Quintal)        1700.0        1800.0         0   \n",
       "3  Bichena Gebeya    Red Teff (Quintal)        1830.0        1850.0         0   \n",
       "4  Bichena Gebeya  White Teff (Quintal)        2200.0        2400.0         0   \n",
       "\n",
       "   many max  single min  single max      amount collection date  \n",
       "0         0      2100.0      2250.0  Sufficient        4/1/2019  \n",
       "1         0      1900.0      2050.0  Sufficient        4/1/2019  \n",
       "2         0      1800.0      1850.0       Under        4/1/2019  \n",
       "3         0      1890.0      1960.0  Sufficient        4/2/2019  \n",
       "4         0      2250.0      2520.0  Sufficient        4/2/2019  "
      ]
     },
     "execution_count": 19,
     "metadata": {},
     "output_type": "execute_result"
    }
   ],
   "source": [
    "df.head()"
   ]
  },
  {
   "cell_type": "code",
   "execution_count": 21,
   "id": "79c5e31a",
   "metadata": {},
   "outputs": [
    {
     "data": {
      "text/plain": [
       "['market place ',\n",
       " 'Crop Variety',\n",
       " 'producer min',\n",
       " 'producer max',\n",
       " 'many min',\n",
       " 'many max',\n",
       " 'single min',\n",
       " 'single max',\n",
       " 'amount',\n",
       " 'collection date']"
      ]
     },
     "execution_count": 21,
     "metadata": {},
     "output_type": "execute_result"
    }
   ],
   "source": [
    "titles = list(df.columns)\n",
    "titles"
   ]
  },
  {
   "cell_type": "code",
   "execution_count": 22,
   "id": "c28826e8",
   "metadata": {},
   "outputs": [],
   "source": [
    "titles[0],titles[1] = titles[1],titles[0]# swaping of the columns with that index"
   ]
  },
  {
   "cell_type": "code",
   "execution_count": 23,
   "id": "44a50294",
   "metadata": {},
   "outputs": [
    {
     "data": {
      "text/plain": [
       "['Crop Variety',\n",
       " 'market place ',\n",
       " 'producer min',\n",
       " 'producer max',\n",
       " 'many min',\n",
       " 'many max',\n",
       " 'single min',\n",
       " 'single max',\n",
       " 'amount',\n",
       " 'collection date']"
      ]
     },
     "execution_count": 23,
     "metadata": {},
     "output_type": "execute_result"
    }
   ],
   "source": [
    "titles#chech"
   ]
  },
  {
   "cell_type": "code",
   "execution_count": 24,
   "id": "60f5909a",
   "metadata": {},
   "outputs": [
    {
     "data": {
      "text/html": [
       "<div>\n",
       "<style scoped>\n",
       "    .dataframe tbody tr th:only-of-type {\n",
       "        vertical-align: middle;\n",
       "    }\n",
       "\n",
       "    .dataframe tbody tr th {\n",
       "        vertical-align: top;\n",
       "    }\n",
       "\n",
       "    .dataframe thead th {\n",
       "        text-align: right;\n",
       "    }\n",
       "</style>\n",
       "<table border=\"1\" class=\"dataframe\">\n",
       "  <thead>\n",
       "    <tr style=\"text-align: right;\">\n",
       "      <th></th>\n",
       "      <th>market place</th>\n",
       "      <th>Crop Variety</th>\n",
       "      <th>producer min</th>\n",
       "      <th>producer max</th>\n",
       "      <th>many min</th>\n",
       "      <th>many max</th>\n",
       "      <th>single min</th>\n",
       "      <th>single max</th>\n",
       "      <th>amount</th>\n",
       "      <th>collection date</th>\n",
       "    </tr>\n",
       "  </thead>\n",
       "  <tbody>\n",
       "    <tr>\n",
       "      <th>0</th>\n",
       "      <td>Adet Gebeya</td>\n",
       "      <td>White Teff (Quintal)</td>\n",
       "      <td>2050.0</td>\n",
       "      <td>2200.0</td>\n",
       "      <td>0</td>\n",
       "      <td>0</td>\n",
       "      <td>2100.0</td>\n",
       "      <td>2250.0</td>\n",
       "      <td>Sufficient</td>\n",
       "      <td>4/1/2019</td>\n",
       "    </tr>\n",
       "    <tr>\n",
       "      <th>1</th>\n",
       "      <td>Adet Gebeya</td>\n",
       "      <td>Mixed Teff (Quintal)</td>\n",
       "      <td>1850.0</td>\n",
       "      <td>2000.0</td>\n",
       "      <td>0</td>\n",
       "      <td>0</td>\n",
       "      <td>1900.0</td>\n",
       "      <td>2050.0</td>\n",
       "      <td>Sufficient</td>\n",
       "      <td>4/1/2019</td>\n",
       "    </tr>\n",
       "    <tr>\n",
       "      <th>2</th>\n",
       "      <td>Adet Gebeya</td>\n",
       "      <td>Red Teff (Quintal)</td>\n",
       "      <td>1700.0</td>\n",
       "      <td>1800.0</td>\n",
       "      <td>0</td>\n",
       "      <td>0</td>\n",
       "      <td>1800.0</td>\n",
       "      <td>1850.0</td>\n",
       "      <td>Under</td>\n",
       "      <td>4/1/2019</td>\n",
       "    </tr>\n",
       "    <tr>\n",
       "      <th>3</th>\n",
       "      <td>Bichena Gebeya</td>\n",
       "      <td>Red Teff (Quintal)</td>\n",
       "      <td>1830.0</td>\n",
       "      <td>1850.0</td>\n",
       "      <td>0</td>\n",
       "      <td>0</td>\n",
       "      <td>1890.0</td>\n",
       "      <td>1960.0</td>\n",
       "      <td>Sufficient</td>\n",
       "      <td>4/2/2019</td>\n",
       "    </tr>\n",
       "    <tr>\n",
       "      <th>4</th>\n",
       "      <td>Bichena Gebeya</td>\n",
       "      <td>White Teff (Quintal)</td>\n",
       "      <td>2200.0</td>\n",
       "      <td>2400.0</td>\n",
       "      <td>0</td>\n",
       "      <td>0</td>\n",
       "      <td>2250.0</td>\n",
       "      <td>2520.0</td>\n",
       "      <td>Sufficient</td>\n",
       "      <td>4/2/2019</td>\n",
       "    </tr>\n",
       "  </tbody>\n",
       "</table>\n",
       "</div>"
      ],
      "text/plain": [
       "    market place           Crop Variety  producer min  producer max  many min  \\\n",
       "0    Adet Gebeya   White Teff (Quintal)        2050.0        2200.0         0   \n",
       "1    Adet Gebeya   Mixed Teff (Quintal)        1850.0        2000.0         0   \n",
       "2    Adet Gebeya     Red Teff (Quintal)        1700.0        1800.0         0   \n",
       "3  Bichena Gebeya    Red Teff (Quintal)        1830.0        1850.0         0   \n",
       "4  Bichena Gebeya  White Teff (Quintal)        2200.0        2400.0         0   \n",
       "\n",
       "   many max  single min  single max      amount collection date  \n",
       "0         0      2100.0      2250.0  Sufficient        4/1/2019  \n",
       "1         0      1900.0      2050.0  Sufficient        4/1/2019  \n",
       "2         0      1800.0      1850.0       Under        4/1/2019  \n",
       "3         0      1890.0      1960.0  Sufficient        4/2/2019  \n",
       "4         0      2250.0      2520.0  Sufficient        4/2/2019  "
      ]
     },
     "execution_count": 24,
     "metadata": {},
     "output_type": "execute_result"
    }
   ],
   "source": [
    "df.head() # still there "
   ]
  },
  {
   "cell_type": "code",
   "execution_count": 25,
   "id": "294580b5",
   "metadata": {},
   "outputs": [],
   "source": [
    "df=df[titles]"
   ]
  },
  {
   "cell_type": "code",
   "execution_count": 26,
   "id": "b15192b0",
   "metadata": {},
   "outputs": [
    {
     "data": {
      "text/html": [
       "<div>\n",
       "<style scoped>\n",
       "    .dataframe tbody tr th:only-of-type {\n",
       "        vertical-align: middle;\n",
       "    }\n",
       "\n",
       "    .dataframe tbody tr th {\n",
       "        vertical-align: top;\n",
       "    }\n",
       "\n",
       "    .dataframe thead th {\n",
       "        text-align: right;\n",
       "    }\n",
       "</style>\n",
       "<table border=\"1\" class=\"dataframe\">\n",
       "  <thead>\n",
       "    <tr style=\"text-align: right;\">\n",
       "      <th></th>\n",
       "      <th>Crop Variety</th>\n",
       "      <th>market place</th>\n",
       "      <th>producer min</th>\n",
       "      <th>producer max</th>\n",
       "      <th>many min</th>\n",
       "      <th>many max</th>\n",
       "      <th>single min</th>\n",
       "      <th>single max</th>\n",
       "      <th>amount</th>\n",
       "      <th>collection date</th>\n",
       "    </tr>\n",
       "  </thead>\n",
       "  <tbody>\n",
       "    <tr>\n",
       "      <th>0</th>\n",
       "      <td>White Teff (Quintal)</td>\n",
       "      <td>Adet Gebeya</td>\n",
       "      <td>2050.0</td>\n",
       "      <td>2200.0</td>\n",
       "      <td>0</td>\n",
       "      <td>0</td>\n",
       "      <td>2100.0</td>\n",
       "      <td>2250.0</td>\n",
       "      <td>Sufficient</td>\n",
       "      <td>4/1/2019</td>\n",
       "    </tr>\n",
       "    <tr>\n",
       "      <th>1</th>\n",
       "      <td>Mixed Teff (Quintal)</td>\n",
       "      <td>Adet Gebeya</td>\n",
       "      <td>1850.0</td>\n",
       "      <td>2000.0</td>\n",
       "      <td>0</td>\n",
       "      <td>0</td>\n",
       "      <td>1900.0</td>\n",
       "      <td>2050.0</td>\n",
       "      <td>Sufficient</td>\n",
       "      <td>4/1/2019</td>\n",
       "    </tr>\n",
       "    <tr>\n",
       "      <th>2</th>\n",
       "      <td>Red Teff (Quintal)</td>\n",
       "      <td>Adet Gebeya</td>\n",
       "      <td>1700.0</td>\n",
       "      <td>1800.0</td>\n",
       "      <td>0</td>\n",
       "      <td>0</td>\n",
       "      <td>1800.0</td>\n",
       "      <td>1850.0</td>\n",
       "      <td>Under</td>\n",
       "      <td>4/1/2019</td>\n",
       "    </tr>\n",
       "    <tr>\n",
       "      <th>3</th>\n",
       "      <td>Red Teff (Quintal)</td>\n",
       "      <td>Bichena Gebeya</td>\n",
       "      <td>1830.0</td>\n",
       "      <td>1850.0</td>\n",
       "      <td>0</td>\n",
       "      <td>0</td>\n",
       "      <td>1890.0</td>\n",
       "      <td>1960.0</td>\n",
       "      <td>Sufficient</td>\n",
       "      <td>4/2/2019</td>\n",
       "    </tr>\n",
       "    <tr>\n",
       "      <th>4</th>\n",
       "      <td>White Teff (Quintal)</td>\n",
       "      <td>Bichena Gebeya</td>\n",
       "      <td>2200.0</td>\n",
       "      <td>2400.0</td>\n",
       "      <td>0</td>\n",
       "      <td>0</td>\n",
       "      <td>2250.0</td>\n",
       "      <td>2520.0</td>\n",
       "      <td>Sufficient</td>\n",
       "      <td>4/2/2019</td>\n",
       "    </tr>\n",
       "  </tbody>\n",
       "</table>\n",
       "</div>"
      ],
      "text/plain": [
       "           Crop Variety   market place   producer min  producer max  many min  \\\n",
       "0  White Teff (Quintal)    Adet Gebeya         2050.0        2200.0         0   \n",
       "1  Mixed Teff (Quintal)    Adet Gebeya         1850.0        2000.0         0   \n",
       "2    Red Teff (Quintal)    Adet Gebeya         1700.0        1800.0         0   \n",
       "3    Red Teff (Quintal)  Bichena Gebeya        1830.0        1850.0         0   \n",
       "4  White Teff (Quintal)  Bichena Gebeya        2200.0        2400.0         0   \n",
       "\n",
       "   many max  single min  single max      amount collection date  \n",
       "0         0      2100.0      2250.0  Sufficient        4/1/2019  \n",
       "1         0      1900.0      2050.0  Sufficient        4/1/2019  \n",
       "2         0      1800.0      1850.0       Under        4/1/2019  \n",
       "3         0      1890.0      1960.0  Sufficient        4/2/2019  \n",
       "4         0      2250.0      2520.0  Sufficient        4/2/2019  "
      ]
     },
     "execution_count": 26,
     "metadata": {},
     "output_type": "execute_result"
    }
   ],
   "source": [
    "df.head()"
   ]
  },
  {
   "cell_type": "code",
   "execution_count": null,
   "id": "2ee7daae",
   "metadata": {},
   "outputs": [],
   "source": []
  }
 ],
 "metadata": {
  "kernelspec": {
   "display_name": "Python 3 (ipykernel)",
   "language": "python",
   "name": "python3"
  },
  "language_info": {
   "codemirror_mode": {
    "name": "ipython",
    "version": 3
   },
   "file_extension": ".py",
   "mimetype": "text/x-python",
   "name": "python",
   "nbconvert_exporter": "python",
   "pygments_lexer": "ipython3",
   "version": "3.9.12"
  }
 },
 "nbformat": 4,
 "nbformat_minor": 5
}
